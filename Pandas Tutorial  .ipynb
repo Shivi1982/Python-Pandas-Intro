{
 "cells": [
  {
   "cell_type": "markdown",
   "metadata": {
    "cell_style": "split",
    "slideshow": {
     "slide_type": "skip"
    },
    "toc": true
   },
   "source": [
    "<h1>A Flow To Python Learning<span class=\"tocSkip\"></span></h1>\n",
    "<div class=\"toc\"><ul class=\"toc-item\"><li><span><a href=\"#Table-of-Contents\" data-toc-modified-id=\"Table-of-Contents-1\"><span class=\"toc-item-num\">1&nbsp;&nbsp;</span>Table of Contents</a></span><ul class=\"toc-item\"><li><span><a href=\"#Creating-Vectors-&amp;-Matrix\" data-toc-modified-id=\"Creating-Vectors-&amp;-Matrix-1.1\"><span class=\"toc-item-num\">1.1&nbsp;&nbsp;</span>Creating Vectors &amp; Matrix</a></span><ul class=\"toc-item\"><li><span><a href=\"#Selecting-a-subset-of-data\" data-toc-modified-id=\"Selecting-a-subset-of-data-1.1.1\"><span class=\"toc-item-num\">1.1.1&nbsp;&nbsp;</span>Selecting a subset of data</a></span><ul class=\"toc-item\"><li><span><a href=\"#Selecting-few-rows-and-columns\" data-toc-modified-id=\"Selecting-few-rows-and-columns-1.1.1.1\"><span class=\"toc-item-num\">1.1.1.1&nbsp;&nbsp;</span>Selecting few rows and columns</a></span></li></ul></li><li><span><a href=\"#Mathematical-ops-on-Matrices\" data-toc-modified-id=\"Mathematical-ops-on-Matrices-1.1.2\"><span class=\"toc-item-num\">1.1.2&nbsp;&nbsp;</span>Mathematical ops on Matrices</a></span><ul class=\"toc-item\"><li><span><a href=\"#List-Examples\" data-toc-modified-id=\"List-Examples-1.1.2.1\"><span class=\"toc-item-num\">1.1.2.1&nbsp;&nbsp;</span>List Examples</a></span></li><li><span><a href=\"#Working-with-string-and-list\" data-toc-modified-id=\"Working-with-string-and-list-1.1.2.2\"><span class=\"toc-item-num\">1.1.2.2&nbsp;&nbsp;</span>Working with string and list</a></span></li></ul></li><li><span><a href=\"#Indexes\" data-toc-modified-id=\"Indexes-1.1.3\"><span class=\"toc-item-num\">1.1.3&nbsp;&nbsp;</span>Indexes</a></span></li><li><span><a href=\"#Hierarchical/Multi-Indexing\" data-toc-modified-id=\"Hierarchical/Multi-Indexing-1.1.4\"><span class=\"toc-item-num\">1.1.4&nbsp;&nbsp;</span>Hierarchical/Multi Indexing</a></span></li></ul></li><li><span><a href=\"#Working-with-dataframe--Subsetting\" data-toc-modified-id=\"Working-with-dataframe--Subsetting-1.2\"><span class=\"toc-item-num\">1.2&nbsp;&nbsp;</span>Working with dataframe- Subsetting</a></span><ul class=\"toc-item\"><li><span><a href=\"#Selecting-Few-Rows/Columns\" data-toc-modified-id=\"Selecting-Few-Rows/Columns-1.2.1\"><span class=\"toc-item-num\">1.2.1&nbsp;&nbsp;</span>Selecting Few Rows/Columns</a></span></li><li><span><a href=\"#Dropping-Multiple-Variables\" data-toc-modified-id=\"Dropping-Multiple-Variables-1.2.2\"><span class=\"toc-item-num\">1.2.2&nbsp;&nbsp;</span>Dropping Multiple Variables</a></span><ul class=\"toc-item\"><li><span><a href=\"#Add-Index-to-a-Dataframe\" data-toc-modified-id=\"Add-Index-to-a-Dataframe-1.2.2.1\"><span class=\"toc-item-num\">1.2.2.1&nbsp;&nbsp;</span>Add Index to a Dataframe</a></span></li></ul></li><li><span><a href=\"#Loading-Excel-with-Pandas\" data-toc-modified-id=\"Loading-Excel-with-Pandas-1.2.3\"><span class=\"toc-item-num\">1.2.3&nbsp;&nbsp;</span>Loading Excel with Pandas</a></span></li><li><span><a href=\"#Rename-Column-Names\" data-toc-modified-id=\"Rename-Column-Names-1.2.4\"><span class=\"toc-item-num\">1.2.4&nbsp;&nbsp;</span>Rename Column Names</a></span></li><li><span><a href=\"#Adding-Column\" data-toc-modified-id=\"Adding-Column-1.2.5\"><span class=\"toc-item-num\">1.2.5&nbsp;&nbsp;</span>Adding Column</a></span></li><li><span><a href=\"#Deleting-a-folder-which-is-not-empty\" data-toc-modified-id=\"Deleting-a-folder-which-is-not-empty-1.2.6\"><span class=\"toc-item-num\">1.2.6&nbsp;&nbsp;</span>Deleting a folder which is not empty</a></span></li></ul></li></ul></li><li><span><a href=\"#MAPS\" data-toc-modified-id=\"MAPS-2\"><span class=\"toc-item-num\">2&nbsp;&nbsp;</span>MAPS</a></span><ul class=\"toc-item\"><li><ul class=\"toc-item\"><li><span><a href=\"#Missing-Values\" data-toc-modified-id=\"Missing-Values-2.0.1\"><span class=\"toc-item-num\">2.0.1&nbsp;&nbsp;</span>Missing Values</a></span></li><li><span><a href=\"#Drop-the-Missing-values\" data-toc-modified-id=\"Drop-the-Missing-values-2.0.2\"><span class=\"toc-item-num\">2.0.2&nbsp;&nbsp;</span>Drop the Missing values</a></span></li><li><span><a href=\"#Find-unique-values\" data-toc-modified-id=\"Find-unique-values-2.0.3\"><span class=\"toc-item-num\">2.0.3&nbsp;&nbsp;</span>Find unique values</a></span></li><li><span><a href=\"#Difference-Between-Values,-Value_Counts-&amp;-Count\" data-toc-modified-id=\"Difference-Between-Values,-Value_Counts-&amp;-Count-2.0.4\"><span class=\"toc-item-num\">2.0.4&nbsp;&nbsp;</span>Difference Between Values, Value_Counts &amp; Count</a></span></li></ul></li><li><span><a href=\"#Grouping-and-Pivot\" data-toc-modified-id=\"Grouping-and-Pivot-2.1\"><span class=\"toc-item-num\">2.1&nbsp;&nbsp;</span>Grouping and Pivot</a></span></li><li><span><a href=\"#Useful-Python-Tips\" data-toc-modified-id=\"Useful-Python-Tips-2.2\"><span class=\"toc-item-num\">2.2&nbsp;&nbsp;</span>Useful Python Tips</a></span></li></ul></li><li><span><a href=\"#Dictionary\" data-toc-modified-id=\"Dictionary-3\"><span class=\"toc-item-num\">3&nbsp;&nbsp;</span>Dictionary</a></span></li><li><span><a href=\"#Functions\" data-toc-modified-id=\"Functions-4\"><span class=\"toc-item-num\">4&nbsp;&nbsp;</span>Functions</a></span><ul class=\"toc-item\"><li><ul class=\"toc-item\"><li><span><a href=\"#Srring-Formatting-Expression\" data-toc-modified-id=\"Srring-Formatting-Expression-4.0.1\"><span class=\"toc-item-num\">4.0.1&nbsp;&nbsp;</span>Srring Formatting Expression</a></span></li></ul></li></ul></li><li><span><a href=\"#LOOPS\" data-toc-modified-id=\"LOOPS-5\"><span class=\"toc-item-num\">5&nbsp;&nbsp;</span>LOOPS</a></span></li><li><span><a href=\"#Reading-a-Text-File\" data-toc-modified-id=\"Reading-a-Text-File-6\"><span class=\"toc-item-num\">6&nbsp;&nbsp;</span>Reading a Text File</a></span></li><li><span><a href=\"#Built-In-Modules\" data-toc-modified-id=\"Built-In-Modules-7\"><span class=\"toc-item-num\">7&nbsp;&nbsp;</span>Built-In Modules</a></span><ul class=\"toc-item\"><li><span><a href=\"#Upgrade-a-package\" data-toc-modified-id=\"Upgrade-a-package-7.1\"><span class=\"toc-item-num\">7.1&nbsp;&nbsp;</span>Upgrade a package</a></span></li><li><span><a href=\"#Issues-With-Package-Install\" data-toc-modified-id=\"Issues-With-Package-Install-7.2\"><span class=\"toc-item-num\">7.2&nbsp;&nbsp;</span>Issues With Package Install</a></span></li><li><span><a href=\"#Help-On-a-Package\" data-toc-modified-id=\"Help-On-a-Package-7.3\"><span class=\"toc-item-num\">7.3&nbsp;&nbsp;</span>Help On a Package</a></span></li><li><span><a href=\"#Package-Details\" data-toc-modified-id=\"Package-Details-7.4\"><span class=\"toc-item-num\">7.4&nbsp;&nbsp;</span>Package Details</a></span></li><li><span><a href=\"#Know-Where-the-Package-is-Stored\" data-toc-modified-id=\"Know-Where-the-Package-is-Stored-7.5\"><span class=\"toc-item-num\">7.5&nbsp;&nbsp;</span>Know Where the Package is Stored</a></span></li></ul></li><li><span><a href=\"#JSON\" data-toc-modified-id=\"JSON-8\"><span class=\"toc-item-num\">8&nbsp;&nbsp;</span>JSON</a></span></li><li><span><a href=\"#SET\" data-toc-modified-id=\"SET-9\"><span class=\"toc-item-num\">9&nbsp;&nbsp;</span>SET</a></span></li><li><span><a href=\"#SQL\" data-toc-modified-id=\"SQL-10\"><span class=\"toc-item-num\">10&nbsp;&nbsp;</span>SQL</a></span></li><li><span><a href=\"#OS-Module\" data-toc-modified-id=\"OS-Module-11\"><span class=\"toc-item-num\">11&nbsp;&nbsp;</span>OS Module</a></span></li><li><span><a href=\"#OPEN-CV\" data-toc-modified-id=\"OPEN-CV-12\"><span class=\"toc-item-num\">12&nbsp;&nbsp;</span>OPEN CV</a></span><ul class=\"toc-item\"><li><span><a href=\"#Concatenation-in-Numpy\" data-toc-modified-id=\"Concatenation-in-Numpy-12.1\"><span class=\"toc-item-num\">12.1&nbsp;&nbsp;</span>Concatenation in Numpy</a></span></li></ul></li><li><span><a href=\"#EDA-package\" data-toc-modified-id=\"EDA-package-13\"><span class=\"toc-item-num\">13&nbsp;&nbsp;</span>EDA package</a></span></li><li><span><a href=\"#Some-Imp-Python-Q's\" data-toc-modified-id=\"Some-Imp-Python-Q's-14\"><span class=\"toc-item-num\">14&nbsp;&nbsp;</span>Some Imp Python Q's</a></span></li></ul></div>"
   ]
  },
  {
   "cell_type": "markdown",
   "metadata": {
    "cell_style": "center"
   },
   "source": [
    "# Table of Contents \n",
    "\n",
    "##  Creating Vectors & Matrix"
   ]
  },
  {
   "cell_type": "code",
   "execution_count": 1,
   "metadata": {
    "scrolled": true
   },
   "outputs": [
    {
     "name": "stderr",
     "output_type": "stream",
     "text": [
      "C:\\Anaconda\\lib\\site-packages\\statsmodels\\tools\\_testing.py:19: FutureWarning: pandas.util.testing is deprecated. Use the functions in the public API at pandas.testing instead.\n",
      "  import pandas.util.testing as tm\n"
     ]
    }
   ],
   "source": [
    "import pandas as pd\n",
    "import numpy as np \n",
    "import seaborn as sns\n",
    "import matplotlib.pyplot as plt\n",
    "import sklearn as sk\n",
    "pd.options.display.float_format = '{:.2f}'.format #[numbers ] wil not appear in scientific form \n",
    "pd.options.display.float_format = '{:,}'.format # Format a number with commas to values in Python\n",
    "pd.set_option(\"display.precision\", 2) # set values to 2 after decimal\n",
    "#if the above set option display precision does not wokr use aa = aa.round(decimals=2) where aa is the dataframe \n",
    "\n",
    "#Control +/ comments the multiple lines in Jupyter \n",
    "# !pip install jupyter_contrib_nbextensions"
   ]
  },
  {
   "cell_type": "code",
   "execution_count": 2,
   "metadata": {
    "slideshow": {
     "slide_type": "slide"
    }
   },
   "outputs": [
    {
     "data": {
      "text/plain": [
       "<function jupyter_nbextensions_configurator.load_jupyter_server_extension(nbapp)>"
      ]
     },
     "execution_count": 2,
     "metadata": {},
     "output_type": "execute_result"
    }
   ],
   "source": [
    "# !pip install jupyter_nbextensions_configurator\n",
    "# !pip install yapf\n",
    "# jupyter_contrib_nbextensions.jupyter_nbextensions_configurator\n",
    "import jupyter_nbextensions_configurator\n",
    "jupyter_nbextensions_configurator.load_jupyter_server_extension\n"
   ]
  },
  {
   "cell_type": "code",
   "execution_count": 3,
   "metadata": {
    "cell_style": "center",
    "code_folding": [],
    "scrolled": true,
    "slideshow": {
     "slide_type": "slide"
    }
   },
   "outputs": [
    {
     "name": "stdout",
     "output_type": "stream",
     "text": [
      "[1 2 3]\n"
     ]
    },
    {
     "data": {
      "text/plain": [
       "array([[1, 2],\n",
       "       [2, 3],\n",
       "       [5, 5]])"
      ]
     },
     "execution_count": 3,
     "metadata": {},
     "output_type": "execute_result"
    }
   ],
   "source": [
    "# Creating a vector - one dimensional and two dimensional :\n",
    "\n",
    "import numpy as np \n",
    "vector_row = np.array([1,2,3])\n",
    "print(vector_row)\n",
    "vector_col = np.array([[1],\n",
    "                     [2],\n",
    "                     [3]])\n",
    "vector_col\n",
    "\n",
    "matrix = np.array([[1,2],\n",
    "                  [2,3,],\n",
    "                  [5,5]])\n",
    "matrix"
   ]
  },
  {
   "cell_type": "markdown",
   "metadata": {},
   "source": [
    "### Selecting a subset of data"
   ]
  },
  {
   "cell_type": "code",
   "execution_count": 4,
   "metadata": {
    "scrolled": true
   },
   "outputs": [
    {
     "data": {
      "text/plain": [
       "array([3, 4])"
      ]
     },
     "execution_count": 4,
     "metadata": {},
     "output_type": "execute_result"
    }
   ],
   "source": [
    "vecr1 = np.array([1,2,3,4,5,6,6,7])\n",
    "vecr1[2]\n",
    "vecr1[2:4]"
   ]
  },
  {
   "cell_type": "code",
   "execution_count": 5,
   "metadata": {
    "code_folding": [],
    "scrolled": true
   },
   "outputs": [
    {
     "data": {
      "text/plain": [
       "7"
      ]
     },
     "execution_count": 5,
     "metadata": {},
     "output_type": "execute_result"
    }
   ],
   "source": [
    "max= np.array([[1,2,3],\n",
    "             [3,4,4],\n",
    "              [5,5,7],\n",
    "             [6,7,8]])\n",
    "max\n",
    "\n",
    "max[2,2] # third row and third column "
   ]
  },
  {
   "cell_type": "markdown",
   "metadata": {},
   "source": [
    "#### Selecting few rows and columns  "
   ]
  },
  {
   "cell_type": "code",
   "execution_count": 6,
   "metadata": {
    "scrolled": true
   },
   "outputs": [
    {
     "data": {
      "text/plain": [
       "array([[1, 2, 3],\n",
       "       [3, 4, 4],\n",
       "       [5, 5, 7],\n",
       "       [6, 7, 8]])"
      ]
     },
     "execution_count": 6,
     "metadata": {},
     "output_type": "execute_result"
    }
   ],
   "source": [
    "max[:] # selecting entire data of a vector "
   ]
  },
  {
   "cell_type": "code",
   "execution_count": 7,
   "metadata": {
    "scrolled": true
   },
   "outputs": [
    {
     "data": {
      "text/plain": [
       "array([4, 5, 6, 6, 7])"
      ]
     },
     "execution_count": 7,
     "metadata": {},
     "output_type": "execute_result"
    }
   ],
   "source": [
    "# Selecting first element to the third\n",
    "vecr1[:3]\n",
    "\n",
    "# selectnig all vectors post third\n",
    "vecr1[3:]"
   ]
  },
  {
   "cell_type": "markdown",
   "metadata": {},
   "source": [
    "### Mathematical ops on Matrices"
   ]
  },
  {
   "cell_type": "code",
   "execution_count": 8,
   "metadata": {},
   "outputs": [
    {
     "data": {
      "text/plain": [
       "array([8, 9, 3])"
      ]
     },
     "execution_count": 8,
     "metadata": {},
     "output_type": "execute_result"
    }
   ],
   "source": [
    "x = np.array([1,5,2])\n",
    "y = np.array([7,4,1])\n",
    "x + y"
   ]
  },
  {
   "cell_type": "code",
   "execution_count": 9,
   "metadata": {},
   "outputs": [
    {
     "data": {
      "text/plain": [
       "array([-6,  1,  1])"
      ]
     },
     "execution_count": 9,
     "metadata": {},
     "output_type": "execute_result"
    }
   ],
   "source": [
    "x * y\n",
    "x - y"
   ]
  },
  {
   "cell_type": "code",
   "execution_count": 10,
   "metadata": {},
   "outputs": [
    {
     "data": {
      "text/plain": [
       "36"
      ]
     },
     "execution_count": 10,
     "metadata": {},
     "output_type": "execute_result"
    }
   ],
   "source": [
    "x = np.array([1,2,3])\n",
    "y = np.array([-7,8,9])\n",
    "np.dot(y,x)"
   ]
  },
  {
   "cell_type": "code",
   "execution_count": 11,
   "metadata": {},
   "outputs": [
    {
     "data": {
      "text/plain": [
       "0.808233789010825"
      ]
     },
     "execution_count": 11,
     "metadata": {},
     "output_type": "execute_result"
    }
   ],
   "source": [
    "dot = np.dot(x,y)\n",
    "x_modulus = np.sqrt((x*x).sum())\n",
    "y_modulus = np.sqrt((y*y).sum())\n",
    "y_modulus\n",
    "\n",
    "#modulus in the remainder when we do a division\n",
    "\n",
    "cos_angle = dot / x_modulus / y_modulus # cosine of angle between x and y\n",
    "angle = np.arccos(cos_angle)\n",
    "angle"
   ]
  },
  {
   "cell_type": "code",
   "execution_count": 12,
   "metadata": {},
   "outputs": [
    {
     "data": {
      "text/plain": [
       "array([  6,  30, -22])"
      ]
     },
     "execution_count": 12,
     "metadata": {},
     "output_type": "execute_result"
    }
   ],
   "source": [
    "np.cross(y,x)"
   ]
  },
  {
   "cell_type": "markdown",
   "metadata": {},
   "source": [
    "#### List Examples "
   ]
  },
  {
   "cell_type": "code",
   "execution_count": 13,
   "metadata": {},
   "outputs": [
    {
     "data": {
      "text/plain": [
       "[1, 2, 3, 4, 5, 6, 7, 8, 9]"
      ]
     },
     "execution_count": 13,
     "metadata": {},
     "output_type": "execute_result"
    }
   ],
   "source": [
    "list(range(1,10))"
   ]
  },
  {
   "cell_type": "code",
   "execution_count": 14,
   "metadata": {},
   "outputs": [
    {
     "name": "stdout",
     "output_type": "stream",
     "text": [
      "[100, 'I dont know', 12.2, [1, 3, 5, 7, 9, 11, 13, 15, 17, 19, 21, 23, 25, 27, 29, 31, 33]]\n",
      "[1, 6, 11, 16, 21, 26, 31, 36, 41, 46, 51, 56, 61, 66, 71, 76, 81, 86, 91, 96, 200]\n",
      "[100, 'I dont know', 12.2, [1, 3, 5, 7, 9, 11, 13, 15, 17, 19, 21, 23, 25, 27, 29, 31, 33], 220]\n"
     ]
    }
   ],
   "source": [
    "a=list(range(1,100,5))\n",
    "a\n",
    "rainfall = [100, \"I dont know\", 12.2, list(range(1,35,2))]\n",
    "print(rainfall)\n",
    "a.append(200)\n",
    "print(a)\n",
    "\n",
    "rainfall.append(220)\n",
    "print(rainfall)\n",
    "\n",
    "\n",
    "# How to add a list within a list "
   ]
  },
  {
   "cell_type": "markdown",
   "metadata": {},
   "source": [
    "#### Working with string and list "
   ]
  },
  {
   "cell_type": "code",
   "execution_count": 15,
   "metadata": {},
   "outputs": [
    {
     "data": {
      "text/plain": [
       "'bright day'"
      ]
     },
     "execution_count": 15,
     "metadata": {},
     "output_type": "execute_result"
    }
   ],
   "source": [
    "test = \"this is a new bright day\"\n",
    "test[-10:]"
   ]
  },
  {
   "cell_type": "code",
   "execution_count": 16,
   "metadata": {},
   "outputs": [
    {
     "data": {
      "text/plain": [
       "39"
      ]
     },
     "execution_count": 16,
     "metadata": {},
     "output_type": "execute_result"
    }
   ],
   "source": [
    "sunday = [1,2,3,3,4,4,5,5,6,6,39]\n",
    "sunday[-1]\n",
    "# getting the last obs from a list \n",
    "# sunday[1:3]\n",
    "# sunday [-2:]"
   ]
  },
  {
   "cell_type": "code",
   "execution_count": 17,
   "metadata": {},
   "outputs": [
    {
     "data": {
      "text/plain": [
       "['jkl', 'mno']"
      ]
     },
     "execution_count": 17,
     "metadata": {},
     "output_type": "execute_result"
    }
   ],
   "source": [
    "b = ['abc' , 'def', 'ghi', 'jkl', 'mno'][-2:][-2:]\n",
    "b\n"
   ]
  },
  {
   "cell_type": "code",
   "execution_count": 18,
   "metadata": {},
   "outputs": [],
   "source": [
    "# pip install jupyterthemes\n",
    "import jupyterthemes"
   ]
  },
  {
   "cell_type": "markdown",
   "metadata": {},
   "source": [
    "### Indexes"
   ]
  },
  {
   "cell_type": "markdown",
   "metadata": {},
   "source": [
    "1. Indexes in python are immutable like dictionary as in they cannot be changed   \n",
    "1. Series in python is a one dimensional array that can have either row or column    "
   ]
  },
  {
   "cell_type": "code",
   "execution_count": 19,
   "metadata": {},
   "outputs": [
    {
     "name": "stdout",
     "output_type": "stream",
     "text": [
      "0    10.5\n",
      "1    11.0\n",
      "2    11.5\n",
      "3    14.0\n",
      "4    12.0\n",
      "5   10.79\n",
      "6   10.86\n",
      "dtype: float64\n"
     ]
    }
   ],
   "source": [
    "prices= [10.5,11, 11.5, 14, 12,10.79, 10.86]\n",
    "shares = pd.Series(prices)\n",
    "print(shares)"
   ]
  },
  {
   "cell_type": "code",
   "execution_count": 20,
   "metadata": {},
   "outputs": [
    {
     "name": "stdout",
     "output_type": "stream",
     "text": [
      "Monday       10.5\n",
      "Tuesday      11.0\n",
      "Wednesday    11.5\n",
      "Thursday     14.0\n",
      "Friday       12.0\n",
      "Saturday    10.79\n",
      "Sunday      10.86\n",
      "dtype: float64\n"
     ]
    }
   ],
   "source": [
    "days = [\"Monday\",\"Tuesday\", \"Wednesday\", \"Thursday\",\"Friday\", \"Saturday\",\"Sunday\"]\n",
    "shares= pd.Series(prices,index=days)\n",
    "print(shares)\n",
    "# with indexing we are able to extract data from just like specifying elements or position in a list"
   ]
  },
  {
   "cell_type": "code",
   "execution_count": 21,
   "metadata": {},
   "outputs": [
    {
     "name": "stdout",
     "output_type": "stream",
     "text": [
      "Index(['Wednesday', 'Thursday', 'Friday', 'Saturday', 'Sunday'], dtype='object')\n",
      "Index(['Monday', 'Tuesday'], dtype='object')\n"
     ]
    }
   ],
   "source": [
    "print(shares.index[2:])\n",
    "print(shares.index[:2])"
   ]
  },
  {
   "cell_type": "code",
   "execution_count": 22,
   "metadata": {},
   "outputs": [
    {
     "name": "stdout",
     "output_type": "stream",
     "text": [
      "None\n"
     ]
    }
   ],
   "source": [
    "# Name attribute in index\n",
    "print(shares.index.name)\n",
    "# Currently this shows as none as we have not assigned any name to the index"
   ]
  },
  {
   "cell_type": "code",
   "execution_count": 23,
   "metadata": {},
   "outputs": [
    {
     "name": "stdout",
     "output_type": "stream",
     "text": [
      "WeekDay\n",
      "Monday       10.5\n",
      "Tuesday      11.0\n",
      "Wednesday    11.5\n",
      "Thursday     14.0\n",
      "Friday       12.0\n",
      "Saturday    10.79\n",
      "Sunday      10.86\n",
      "dtype: float64\n"
     ]
    }
   ],
   "source": [
    "shares.index.name= 'WeekDay'\n",
    "print(shares)"
   ]
  },
  {
   "cell_type": "markdown",
   "metadata": {},
   "source": [
    "When loading a dataframe we can assign an index there itself for example:\n",
    "abc= pd.read_csv(\"filename\",index_col='Nameofthecolumn that need to be index')"
   ]
  },
  {
   "cell_type": "code",
   "execution_count": 24,
   "metadata": {},
   "outputs": [
    {
     "name": "stdout",
     "output_type": "stream",
     "text": [
      "[0, 1, 8, 27, 64, 125, 216, 343, 512, 729]\n"
     ]
    }
   ],
   "source": [
    "cubes= [] # empty list\n",
    "for a in range(10):\n",
    "    cubes.append(a**3)\n",
    "a=[2,3,4,5]\n",
    "print(cubes)"
   ]
  },
  {
   "cell_type": "markdown",
   "metadata": {},
   "source": [
    "### Hierarchical/Multi Indexing"
   ]
  },
  {
   "cell_type": "markdown",
   "metadata": {},
   "source": [
    "set_index can be used for hierarchical indexing followed by the name of the variables "
   ]
  },
  {
   "cell_type": "code",
   "execution_count": 25,
   "metadata": {},
   "outputs": [
    {
     "data": {
      "text/plain": [
       "[('bar', 'one'),\n",
       " ('bar', 'two'),\n",
       " ('baz', 'one'),\n",
       " ('baz', 'two'),\n",
       " ('foo', 'one'),\n",
       " ('foo', 'two'),\n",
       " ('qux', 'one'),\n",
       " ('qux', 'two')]"
      ]
     },
     "execution_count": 25,
     "metadata": {},
     "output_type": "execute_result"
    }
   ],
   "source": [
    "arrays = [['bar', 'bar', 'baz', 'baz', 'foo', 'foo', 'qux', 'qux'],\n",
    "['one', 'two', 'one', 'two', 'one', 'two', 'one', 'two']]\n",
    "tuples = list(zip(*arrays)) # creates one elements fron 2 list of tuples\n",
    "tuples"
   ]
  },
  {
   "cell_type": "code",
   "execution_count": 26,
   "metadata": {},
   "outputs": [
    {
     "data": {
      "text/plain": [
       "MultiIndex([('bar', 'one'),\n",
       "            ('bar', 'two'),\n",
       "            ('baz', 'one'),\n",
       "            ('baz', 'two'),\n",
       "            ('foo', 'one'),\n",
       "            ('foo', 'two'),\n",
       "            ('qux', 'one'),\n",
       "            ('qux', 'two')],\n",
       "           names=['One', 'Two'])"
      ]
     },
     "execution_count": 26,
     "metadata": {},
     "output_type": "execute_result"
    }
   ],
   "source": [
    "index = pd.MultiIndex.from_tuples(tuples,names=['One', 'Two'])\n",
    "index"
   ]
  },
  {
   "cell_type": "code",
   "execution_count": 27,
   "metadata": {},
   "outputs": [
    {
     "data": {
      "text/html": [
       "<div>\n",
       "<style scoped>\n",
       "    .dataframe tbody tr th:only-of-type {\n",
       "        vertical-align: middle;\n",
       "    }\n",
       "\n",
       "    .dataframe tbody tr th {\n",
       "        vertical-align: top;\n",
       "    }\n",
       "\n",
       "    .dataframe thead th {\n",
       "        text-align: right;\n",
       "    }\n",
       "</style>\n",
       "<table border=\"1\" class=\"dataframe\">\n",
       "  <thead>\n",
       "    <tr style=\"text-align: right;\">\n",
       "      <th></th>\n",
       "      <th>0</th>\n",
       "      <th>1</th>\n",
       "      <th>2</th>\n",
       "      <th>3</th>\n",
       "    </tr>\n",
       "  </thead>\n",
       "  <tbody>\n",
       "    <tr>\n",
       "      <th>A</th>\n",
       "      <td>0.989668800877051</td>\n",
       "      <td>-0.33988011475412566</td>\n",
       "      <td>0.007781357194904195</td>\n",
       "      <td>-0.8739440742379381</td>\n",
       "    </tr>\n",
       "    <tr>\n",
       "      <th>B</th>\n",
       "      <td>1.359593114807846</td>\n",
       "      <td>-1.4445793493673424</td>\n",
       "      <td>-0.3146783192479256</td>\n",
       "      <td>1.8307773669942646</td>\n",
       "    </tr>\n",
       "    <tr>\n",
       "      <th>C</th>\n",
       "      <td>-0.6280520392348404</td>\n",
       "      <td>0.1788695327736789</td>\n",
       "      <td>2.6508983038673155</td>\n",
       "      <td>0.17322303417506754</td>\n",
       "    </tr>\n",
       "  </tbody>\n",
       "</table>\n",
       "</div>"
      ],
      "text/plain": [
       "                    0                    1                    2  \\\n",
       "A   0.989668800877051 -0.33988011475412566 0.007781357194904195   \n",
       "B   1.359593114807846  -1.4445793493673424  -0.3146783192479256   \n",
       "C -0.6280520392348404   0.1788695327736789   2.6508983038673155   \n",
       "\n",
       "                    3  \n",
       "A -0.8739440742379381  \n",
       "B  1.8307773669942646  \n",
       "C 0.17322303417506754  "
      ]
     },
     "execution_count": 27,
     "metadata": {},
     "output_type": "execute_result"
    }
   ],
   "source": [
    "df = pd.DataFrame(np.random.randn(3,4), index=['A', 'B', 'C'])\n",
    "df"
   ]
  },
  {
   "cell_type": "code",
   "execution_count": 28,
   "metadata": {},
   "outputs": [
    {
     "data": {
      "text/html": [
       "<div>\n",
       "<style scoped>\n",
       "    .dataframe tbody tr th:only-of-type {\n",
       "        vertical-align: middle;\n",
       "    }\n",
       "\n",
       "    .dataframe tbody tr th {\n",
       "        vertical-align: top;\n",
       "    }\n",
       "\n",
       "    .dataframe thead th {\n",
       "        text-align: right;\n",
       "    }\n",
       "</style>\n",
       "<table border=\"1\" class=\"dataframe\">\n",
       "  <thead>\n",
       "    <tr style=\"text-align: right;\">\n",
       "      <th></th>\n",
       "      <th></th>\n",
       "      <th>A</th>\n",
       "      <th>B</th>\n",
       "      <th>C</th>\n",
       "    </tr>\n",
       "    <tr>\n",
       "      <th>One</th>\n",
       "      <th>Two</th>\n",
       "      <th></th>\n",
       "      <th></th>\n",
       "      <th></th>\n",
       "    </tr>\n",
       "  </thead>\n",
       "  <tbody>\n",
       "    <tr>\n",
       "      <th rowspan=\"2\" valign=\"top\">bar</th>\n",
       "      <th>one</th>\n",
       "      <td>0.549608663964465</td>\n",
       "      <td>-0.16256469964247483</td>\n",
       "      <td>-1.5434296137780836</td>\n",
       "    </tr>\n",
       "    <tr>\n",
       "      <th>two</th>\n",
       "      <td>1.3527205260767545</td>\n",
       "      <td>-0.581228042823102</td>\n",
       "      <td>0.6702511670292981</td>\n",
       "    </tr>\n",
       "    <tr>\n",
       "      <th rowspan=\"2\" valign=\"top\">baz</th>\n",
       "      <th>one</th>\n",
       "      <td>1.2780383685849128</td>\n",
       "      <td>1.1227941024868366</td>\n",
       "      <td>2.2327313647895792</td>\n",
       "    </tr>\n",
       "    <tr>\n",
       "      <th>two</th>\n",
       "      <td>-0.3940772589297542</td>\n",
       "      <td>0.17211918318247452</td>\n",
       "      <td>-0.04640986362374943</td>\n",
       "    </tr>\n",
       "    <tr>\n",
       "      <th rowspan=\"2\" valign=\"top\">foo</th>\n",
       "      <th>one</th>\n",
       "      <td>1.3059885648191853</td>\n",
       "      <td>1.9734113393398047</td>\n",
       "      <td>-1.3856700910770468</td>\n",
       "    </tr>\n",
       "    <tr>\n",
       "      <th>two</th>\n",
       "      <td>-0.6902416161803699</td>\n",
       "      <td>0.12516920884652014</td>\n",
       "      <td>0.1394060265969617</td>\n",
       "    </tr>\n",
       "    <tr>\n",
       "      <th rowspan=\"2\" valign=\"top\">qux</th>\n",
       "      <th>one</th>\n",
       "      <td>-0.22176497742860324</td>\n",
       "      <td>-0.4894786934118035</td>\n",
       "      <td>1.3928515637782697</td>\n",
       "    </tr>\n",
       "    <tr>\n",
       "      <th>two</th>\n",
       "      <td>-0.9838578150663756</td>\n",
       "      <td>-1.1927079377471175</td>\n",
       "      <td>-0.7005686046751781</td>\n",
       "    </tr>\n",
       "  </tbody>\n",
       "</table>\n",
       "</div>"
      ],
      "text/plain": [
       "                           A                    B                    C\n",
       "One Two                                                               \n",
       "bar one    0.549608663964465 -0.16256469964247483  -1.5434296137780836\n",
       "    two   1.3527205260767545   -0.581228042823102   0.6702511670292981\n",
       "baz one   1.2780383685849128   1.1227941024868366   2.2327313647895792\n",
       "    two  -0.3940772589297542  0.17211918318247452 -0.04640986362374943\n",
       "foo one   1.3059885648191853   1.9734113393398047  -1.3856700910770468\n",
       "    two  -0.6902416161803699  0.12516920884652014   0.1394060265969617\n",
       "qux one -0.22176497742860324  -0.4894786934118035   1.3928515637782697\n",
       "    two  -0.9838578150663756  -1.1927079377471175  -0.7005686046751781"
      ]
     },
     "execution_count": 28,
     "metadata": {},
     "output_type": "execute_result"
    }
   ],
   "source": [
    "df = pd.DataFrame(np.random.randn(3, 8), index=['A', 'B', 'C'], columns=index)\n",
    "df\n",
    "df.T"
   ]
  },
  {
   "cell_type": "markdown",
   "metadata": {},
   "source": [
    "## Working with dataframe- Subsetting"
   ]
  },
  {
   "cell_type": "code",
   "execution_count": 29,
   "metadata": {
    "code_folding": [],
    "scrolled": true
   },
   "outputs": [
    {
     "data": {
      "text/plain": [
       "array([[2],\n",
       "       [4],\n",
       "       [5],\n",
       "       [7]])"
      ]
     },
     "execution_count": 29,
     "metadata": {},
     "output_type": "execute_result"
    }
   ],
   "source": [
    "#selecting first row \n",
    "max= np.array([[1,2,3],\n",
    "             [3,4,4],\n",
    "              [5,5,7],\n",
    "             [6,7,8]])\n",
    "\n",
    "max[:1,]\n",
    "max[:2,:] # selecting first 2 rows and all columns \n",
    "max[:,1:2] # selecting all rows and second column "
   ]
  },
  {
   "cell_type": "code",
   "execution_count": 30,
   "metadata": {
    "scrolled": true
   },
   "outputs": [
    {
     "data": {
      "text/plain": [
       "pandas.core.frame.DataFrame"
      ]
     },
     "execution_count": 30,
     "metadata": {},
     "output_type": "execute_result"
    }
   ],
   "source": [
    "slicing_1 = pd.read_csv(\"2016-stack-overflow-survey-responses.csv\")\n",
    "slicing_1.head(4)\n",
    "slicing_1.iloc[4,7]\n",
    "# slicing_1.iloc[:,1:5]# all rows and 5 column \n",
    "# iloc defines how to pick up observations from data,it is rows followed by column \n",
    "type(slicing_1)"
   ]
  },
  {
   "cell_type": "code",
   "execution_count": 31,
   "metadata": {},
   "outputs": [
    {
     "data": {
      "text/plain": [
       "1    30-34\n",
       "2      NaN\n",
       "3      NaN\n",
       "4     > 60\n",
       "Name: age_range, dtype: object"
      ]
     },
     "execution_count": 31,
     "metadata": {},
     "output_type": "execute_result"
    }
   ],
   "source": [
    "slicing_1['age_range'][1:5] # fetches rows from age range column and rows number 1 to 4, 0 is not included"
   ]
  },
  {
   "cell_type": "code",
   "execution_count": 32,
   "metadata": {},
   "outputs": [
    {
     "data": {
      "text/html": [
       "<div>\n",
       "<style scoped>\n",
       "    .dataframe tbody tr th:only-of-type {\n",
       "        vertical-align: middle;\n",
       "    }\n",
       "\n",
       "    .dataframe tbody tr th {\n",
       "        vertical-align: top;\n",
       "    }\n",
       "\n",
       "    .dataframe thead th {\n",
       "        text-align: right;\n",
       "    }\n",
       "</style>\n",
       "<table border=\"1\" class=\"dataframe\">\n",
       "  <thead>\n",
       "    <tr style=\"text-align: right;\">\n",
       "      <th></th>\n",
       "      <th>Unnamed: 0</th>\n",
       "      <th>collector</th>\n",
       "      <th>country</th>\n",
       "      <th>un_subregion</th>\n",
       "      <th>so_region</th>\n",
       "      <th>age_range</th>\n",
       "      <th>age_midpoint</th>\n",
       "      <th>gender</th>\n",
       "      <th>self_identification</th>\n",
       "      <th>occupation</th>\n",
       "      <th>...</th>\n",
       "      <th>important_sameend</th>\n",
       "      <th>important_newtech</th>\n",
       "      <th>important_buildnew</th>\n",
       "      <th>important_buildexisting</th>\n",
       "      <th>important_promotion</th>\n",
       "      <th>important_companymission</th>\n",
       "      <th>important_wfh</th>\n",
       "      <th>important_ownoffice</th>\n",
       "      <th>developer_challenges</th>\n",
       "      <th>why_stack_overflow</th>\n",
       "    </tr>\n",
       "  </thead>\n",
       "  <tbody>\n",
       "    <tr>\n",
       "      <th>0</th>\n",
       "      <td>1888</td>\n",
       "      <td>Facebook</td>\n",
       "      <td>Afghanistan</td>\n",
       "      <td>Southern Asia</td>\n",
       "      <td>Central Asia</td>\n",
       "      <td>20-24</td>\n",
       "      <td>22.0</td>\n",
       "      <td>Male</td>\n",
       "      <td>Programmer</td>\n",
       "      <td>NaN</td>\n",
       "      <td>...</td>\n",
       "      <td>NaN</td>\n",
       "      <td>NaN</td>\n",
       "      <td>NaN</td>\n",
       "      <td>NaN</td>\n",
       "      <td>NaN</td>\n",
       "      <td>NaN</td>\n",
       "      <td>NaN</td>\n",
       "      <td>NaN</td>\n",
       "      <td>NaN</td>\n",
       "      <td>NaN</td>\n",
       "    </tr>\n",
       "    <tr>\n",
       "      <th>1</th>\n",
       "      <td>4637</td>\n",
       "      <td>Facebook</td>\n",
       "      <td>Afghanistan</td>\n",
       "      <td>Southern Asia</td>\n",
       "      <td>Central Asia</td>\n",
       "      <td>30-34</td>\n",
       "      <td>32.0</td>\n",
       "      <td>Male</td>\n",
       "      <td>Developer; Engineer; Programmer</td>\n",
       "      <td>Mobile developer - iOS</td>\n",
       "      <td>...</td>\n",
       "      <td>This is somewhat important</td>\n",
       "      <td>This is very important</td>\n",
       "      <td>This is very important</td>\n",
       "      <td>I don't care about this</td>\n",
       "      <td>This is somewhat important</td>\n",
       "      <td>This is somewhat important</td>\n",
       "      <td>I don't care about this</td>\n",
       "      <td>I don't care about this</td>\n",
       "      <td>Unrealistic expectations; Interacting with non...</td>\n",
       "      <td>To get help for my job; Because I can't do my ...</td>\n",
       "    </tr>\n",
       "  </tbody>\n",
       "</table>\n",
       "<p>2 rows × 66 columns</p>\n",
       "</div>"
      ],
      "text/plain": [
       "   Unnamed: 0 collector      country   un_subregion     so_region age_range  \\\n",
       "0        1888  Facebook  Afghanistan  Southern Asia  Central Asia     20-24   \n",
       "1        4637  Facebook  Afghanistan  Southern Asia  Central Asia     30-34   \n",
       "\n",
       "   age_midpoint gender              self_identification  \\\n",
       "0          22.0   Male                       Programmer   \n",
       "1          32.0   Male  Developer; Engineer; Programmer   \n",
       "\n",
       "               occupation  ...           important_sameend  \\\n",
       "0                     NaN  ...                         NaN   \n",
       "1  Mobile developer - iOS  ...  This is somewhat important   \n",
       "\n",
       "        important_newtech      important_buildnew  important_buildexisting  \\\n",
       "0                     NaN                     NaN                      NaN   \n",
       "1  This is very important  This is very important  I don't care about this   \n",
       "\n",
       "          important_promotion    important_companymission  \\\n",
       "0                         NaN                         NaN   \n",
       "1  This is somewhat important  This is somewhat important   \n",
       "\n",
       "             important_wfh      important_ownoffice  \\\n",
       "0                      NaN                      NaN   \n",
       "1  I don't care about this  I don't care about this   \n",
       "\n",
       "                                developer_challenges  \\\n",
       "0                                                NaN   \n",
       "1  Unrealistic expectations; Interacting with non...   \n",
       "\n",
       "                                  why_stack_overflow  \n",
       "0                                                NaN  \n",
       "1  To get help for my job; Because I can't do my ...  \n",
       "\n",
       "[2 rows x 66 columns]"
      ]
     },
     "execution_count": 32,
     "metadata": {},
     "output_type": "execute_result"
    }
   ],
   "source": [
    "slicing_1.head(2)"
   ]
  },
  {
   "cell_type": "code",
   "execution_count": 33,
   "metadata": {},
   "outputs": [
    {
     "data": {
      "text/html": [
       "<div>\n",
       "<style scoped>\n",
       "    .dataframe tbody tr th:only-of-type {\n",
       "        vertical-align: middle;\n",
       "    }\n",
       "\n",
       "    .dataframe tbody tr th {\n",
       "        vertical-align: top;\n",
       "    }\n",
       "\n",
       "    .dataframe thead th {\n",
       "        text-align: right;\n",
       "    }\n",
       "</style>\n",
       "<table border=\"1\" class=\"dataframe\">\n",
       "  <thead>\n",
       "    <tr style=\"text-align: right;\">\n",
       "      <th></th>\n",
       "      <th>Exam</th>\n",
       "      <th>Score</th>\n",
       "    </tr>\n",
       "    <tr>\n",
       "      <th>Name</th>\n",
       "      <th></th>\n",
       "      <th></th>\n",
       "    </tr>\n",
       "  </thead>\n",
       "  <tbody>\n",
       "    <tr>\n",
       "      <th>Alisa</th>\n",
       "      <td>Semester 1</td>\n",
       "      <td>62</td>\n",
       "    </tr>\n",
       "    <tr>\n",
       "      <th>Bobby</th>\n",
       "      <td>Semester 1</td>\n",
       "      <td>47</td>\n",
       "    </tr>\n",
       "    <tr>\n",
       "      <th>Cathrine</th>\n",
       "      <td>Semester 1</td>\n",
       "      <td>55</td>\n",
       "    </tr>\n",
       "  </tbody>\n",
       "</table>\n",
       "</div>"
      ],
      "text/plain": [
       "                Exam  Score\n",
       "Name                       \n",
       "Alisa     Semester 1     62\n",
       "Bobby     Semester 1     47\n",
       "Cathrine  Semester 1     55"
      ]
     },
     "execution_count": 33,
     "metadata": {},
     "output_type": "execute_result"
    }
   ],
   "source": [
    "#Create a DataFrame\n",
    "d = {\n",
    "    'Name':['Alisa','Bobby','Cathrine','Alisa','Bobby','Cathrine',\n",
    "            'Alisa','Bobby','Cathrine','Alisa','Bobby','Cathrine'],\n",
    "    'Exam':['Semester 1','Semester 1','Semester 1','Semester 1','Semester 1','Semester 1',\n",
    "            'Semester 2','Semester 2','Semester 2','Semester 2','Semester 2','Semester 2'],\n",
    "     \n",
    "    'Subject':['Mathematics','Mathematics','Mathematics','Science','Science','Science',\n",
    "               'Mathematics','Mathematics','Mathematics','Science','Science','Science'],\n",
    "   'Score':[62,47,55,74,31,77,85,63,42,67,89,81]}\n",
    " \n",
    "df = pd.DataFrame(d,columns=['Name','Exam','Subject','Score'])\n",
    "df\n",
    "# df.loc[1]\n",
    "df[['Name','Score']]\n",
    "df.set_index('Name',inplace=True)\n",
    "df.loc['Alisa']\n",
    "df.loc[:,['Exam','Score']].head(3)"
   ]
  },
  {
   "cell_type": "code",
   "execution_count": 34,
   "metadata": {
    "cell_style": "split",
    "scrolled": true
   },
   "outputs": [
    {
     "data": {
      "text/html": [
       "<div>\n",
       "<style scoped>\n",
       "    .dataframe tbody tr th:only-of-type {\n",
       "        vertical-align: middle;\n",
       "    }\n",
       "\n",
       "    .dataframe tbody tr th {\n",
       "        vertical-align: top;\n",
       "    }\n",
       "\n",
       "    .dataframe thead th {\n",
       "        text-align: right;\n",
       "    }\n",
       "</style>\n",
       "<table border=\"1\" class=\"dataframe\">\n",
       "  <thead>\n",
       "    <tr style=\"text-align: right;\">\n",
       "      <th></th>\n",
       "      <th>collector</th>\n",
       "      <th>country</th>\n",
       "    </tr>\n",
       "  </thead>\n",
       "  <tbody>\n",
       "    <tr>\n",
       "      <th>0</th>\n",
       "      <td>Facebook</td>\n",
       "      <td>Afghanistan</td>\n",
       "    </tr>\n",
       "    <tr>\n",
       "      <th>1</th>\n",
       "      <td>Facebook</td>\n",
       "      <td>Afghanistan</td>\n",
       "    </tr>\n",
       "    <tr>\n",
       "      <th>2</th>\n",
       "      <td>Facebook</td>\n",
       "      <td>Afghanistan</td>\n",
       "    </tr>\n",
       "    <tr>\n",
       "      <th>3</th>\n",
       "      <td>Facebook</td>\n",
       "      <td>Afghanistan</td>\n",
       "    </tr>\n",
       "    <tr>\n",
       "      <th>4</th>\n",
       "      <td>Facebook</td>\n",
       "      <td>Afghanistan</td>\n",
       "    </tr>\n",
       "    <tr>\n",
       "      <th>5</th>\n",
       "      <td>Facebook</td>\n",
       "      <td>Afghanistan</td>\n",
       "    </tr>\n",
       "    <tr>\n",
       "      <th>6</th>\n",
       "      <td>Facebook</td>\n",
       "      <td>Afghanistan</td>\n",
       "    </tr>\n",
       "    <tr>\n",
       "      <th>7</th>\n",
       "      <td>Facebook</td>\n",
       "      <td>Afghanistan</td>\n",
       "    </tr>\n",
       "  </tbody>\n",
       "</table>\n",
       "</div>"
      ],
      "text/plain": [
       "  collector      country\n",
       "0  Facebook  Afghanistan\n",
       "1  Facebook  Afghanistan\n",
       "2  Facebook  Afghanistan\n",
       "3  Facebook  Afghanistan\n",
       "4  Facebook  Afghanistan\n",
       "5  Facebook  Afghanistan\n",
       "6  Facebook  Afghanistan\n",
       "7  Facebook  Afghanistan"
      ]
     },
     "execution_count": 34,
     "metadata": {},
     "output_type": "execute_result"
    }
   ],
   "source": [
    "slicing_1.iloc[0:8,1:3] # fetching first 8 rows and 3 columns "
   ]
  },
  {
   "cell_type": "markdown",
   "metadata": {},
   "source": [
    "### Selecting Few Rows/Columns"
   ]
  },
  {
   "cell_type": "code",
   "execution_count": 35,
   "metadata": {},
   "outputs": [
    {
     "data": {
      "text/html": [
       "<div>\n",
       "<style scoped>\n",
       "    .dataframe tbody tr th:only-of-type {\n",
       "        vertical-align: middle;\n",
       "    }\n",
       "\n",
       "    .dataframe tbody tr th {\n",
       "        vertical-align: top;\n",
       "    }\n",
       "\n",
       "    .dataframe thead th {\n",
       "        text-align: right;\n",
       "    }\n",
       "</style>\n",
       "<table border=\"1\" class=\"dataframe\">\n",
       "  <thead>\n",
       "    <tr style=\"text-align: right;\">\n",
       "      <th></th>\n",
       "      <th>country</th>\n",
       "      <th>un_subregion</th>\n",
       "      <th>so_region</th>\n",
       "      <th>age_range</th>\n",
       "    </tr>\n",
       "  </thead>\n",
       "  <tbody>\n",
       "    <tr>\n",
       "      <th>0</th>\n",
       "      <td>Afghanistan</td>\n",
       "      <td>Southern Asia</td>\n",
       "      <td>Central Asia</td>\n",
       "      <td>20-24</td>\n",
       "    </tr>\n",
       "    <tr>\n",
       "      <th>1</th>\n",
       "      <td>Afghanistan</td>\n",
       "      <td>Southern Asia</td>\n",
       "      <td>Central Asia</td>\n",
       "      <td>30-34</td>\n",
       "    </tr>\n",
       "    <tr>\n",
       "      <th>2</th>\n",
       "      <td>Afghanistan</td>\n",
       "      <td>Southern Asia</td>\n",
       "      <td>Central Asia</td>\n",
       "      <td>NaN</td>\n",
       "    </tr>\n",
       "    <tr>\n",
       "      <th>3</th>\n",
       "      <td>Afghanistan</td>\n",
       "      <td>Southern Asia</td>\n",
       "      <td>Central Asia</td>\n",
       "      <td>NaN</td>\n",
       "    </tr>\n",
       "    <tr>\n",
       "      <th>4</th>\n",
       "      <td>Afghanistan</td>\n",
       "      <td>Southern Asia</td>\n",
       "      <td>Central Asia</td>\n",
       "      <td>&gt; 60</td>\n",
       "    </tr>\n",
       "    <tr>\n",
       "      <th>5</th>\n",
       "      <td>Afghanistan</td>\n",
       "      <td>Southern Asia</td>\n",
       "      <td>Central Asia</td>\n",
       "      <td>20-24</td>\n",
       "    </tr>\n",
       "    <tr>\n",
       "      <th>6</th>\n",
       "      <td>Afghanistan</td>\n",
       "      <td>Southern Asia</td>\n",
       "      <td>Central Asia</td>\n",
       "      <td>Prefer not to disclose</td>\n",
       "    </tr>\n",
       "    <tr>\n",
       "      <th>7</th>\n",
       "      <td>Afghanistan</td>\n",
       "      <td>Southern Asia</td>\n",
       "      <td>Central Asia</td>\n",
       "      <td>25-29</td>\n",
       "    </tr>\n",
       "    <tr>\n",
       "      <th>8</th>\n",
       "      <td>Albania</td>\n",
       "      <td>Southern Europe</td>\n",
       "      <td>Eastern Europe</td>\n",
       "      <td>25-29</td>\n",
       "    </tr>\n",
       "    <tr>\n",
       "      <th>9</th>\n",
       "      <td>Albania</td>\n",
       "      <td>Southern Europe</td>\n",
       "      <td>Eastern Europe</td>\n",
       "      <td>20-24</td>\n",
       "    </tr>\n",
       "    <tr>\n",
       "      <th>10</th>\n",
       "      <td>Albania</td>\n",
       "      <td>Southern Europe</td>\n",
       "      <td>Eastern Europe</td>\n",
       "      <td>25-29</td>\n",
       "    </tr>\n",
       "  </tbody>\n",
       "</table>\n",
       "</div>"
      ],
      "text/plain": [
       "        country     un_subregion       so_region               age_range\n",
       "0   Afghanistan    Southern Asia    Central Asia                   20-24\n",
       "1   Afghanistan    Southern Asia    Central Asia                   30-34\n",
       "2   Afghanistan    Southern Asia    Central Asia                     NaN\n",
       "3   Afghanistan    Southern Asia    Central Asia                     NaN\n",
       "4   Afghanistan    Southern Asia    Central Asia                    > 60\n",
       "5   Afghanistan    Southern Asia    Central Asia                   20-24\n",
       "6   Afghanistan    Southern Asia    Central Asia  Prefer not to disclose\n",
       "7   Afghanistan    Southern Asia    Central Asia                   25-29\n",
       "8       Albania  Southern Europe  Eastern Europe                   25-29\n",
       "9       Albania  Southern Europe  Eastern Europe                   20-24\n",
       "10      Albania  Southern Europe  Eastern Europe                   25-29"
      ]
     },
     "execution_count": 35,
     "metadata": {},
     "output_type": "execute_result"
    }
   ],
   "source": [
    "# selecting all rows and few columns\n",
    "slicing_1.loc[0:10, 'country':'age_range'] # seelcts first 1o rows and few columns from country to age range\n"
   ]
  },
  {
   "cell_type": "code",
   "execution_count": 36,
   "metadata": {},
   "outputs": [
    {
     "data": {
      "text/html": [
       "<div>\n",
       "<style scoped>\n",
       "    .dataframe tbody tr th:only-of-type {\n",
       "        vertical-align: middle;\n",
       "    }\n",
       "\n",
       "    .dataframe tbody tr th {\n",
       "        vertical-align: top;\n",
       "    }\n",
       "\n",
       "    .dataframe thead th {\n",
       "        text-align: right;\n",
       "    }\n",
       "</style>\n",
       "<table border=\"1\" class=\"dataframe\">\n",
       "  <thead>\n",
       "    <tr style=\"text-align: right;\">\n",
       "      <th></th>\n",
       "      <th>Unnamed: 0</th>\n",
       "      <th>collector</th>\n",
       "      <th>country</th>\n",
       "      <th>un_subregion</th>\n",
       "      <th>so_region</th>\n",
       "      <th>age_range</th>\n",
       "      <th>age_midpoint</th>\n",
       "      <th>gender</th>\n",
       "      <th>self_identification</th>\n",
       "      <th>occupation</th>\n",
       "      <th>...</th>\n",
       "      <th>important_sameend</th>\n",
       "      <th>important_newtech</th>\n",
       "      <th>important_buildnew</th>\n",
       "      <th>important_buildexisting</th>\n",
       "      <th>important_promotion</th>\n",
       "      <th>important_companymission</th>\n",
       "      <th>important_wfh</th>\n",
       "      <th>important_ownoffice</th>\n",
       "      <th>developer_challenges</th>\n",
       "      <th>why_stack_overflow</th>\n",
       "    </tr>\n",
       "  </thead>\n",
       "  <tbody>\n",
       "  </tbody>\n",
       "</table>\n",
       "<p>0 rows × 66 columns</p>\n",
       "</div>"
      ],
      "text/plain": [
       "Empty DataFrame\n",
       "Columns: [Unnamed: 0, collector, country, un_subregion, so_region, age_range, age_midpoint, gender, self_identification, occupation, occupation_group, experience_range, experience_midpoint, salary_range, salary_midpoint, big_mac_index, tech_do, tech_want, aliens, programming_ability, employment_status, industry, company_size_range, team_size_range, women_on_team, remote, job_satisfaction, job_discovery, dev_environment, commit_frequency, hobby, dogs_vs_cats, desktop_os, unit_testing, rep_range, visit_frequency, why_learn_new_tech, education, open_to_new_job, new_job_value, job_search_annoyance, interview_likelihood, how_to_improve_interview_process, star_wars_vs_star_trek, agree_tech, agree_notice, agree_problemsolving, agree_diversity, agree_adblocker, agree_alcohol, agree_loveboss, agree_nightcode, agree_legacy, agree_mars, important_variety, important_control, important_sameend, important_newtech, important_buildnew, important_buildexisting, important_promotion, important_companymission, important_wfh, important_ownoffice, developer_challenges, why_stack_overflow]\n",
       "Index: []\n",
       "\n",
       "[0 rows x 66 columns]"
      ]
     },
     "execution_count": 36,
     "metadata": {},
     "output_type": "execute_result"
    }
   ],
   "source": [
    "# selecting all columns and few rows \n",
    "slicing_1.loc['Afghanistan':'Germany',:]"
   ]
  },
  {
   "cell_type": "code",
   "execution_count": 37,
   "metadata": {
    "scrolled": true
   },
   "outputs": [
    {
     "data": {
      "text/html": [
       "<div>\n",
       "<style scoped>\n",
       "    .dataframe tbody tr th:only-of-type {\n",
       "        vertical-align: middle;\n",
       "    }\n",
       "\n",
       "    .dataframe tbody tr th {\n",
       "        vertical-align: top;\n",
       "    }\n",
       "\n",
       "    .dataframe thead th {\n",
       "        text-align: right;\n",
       "    }\n",
       "</style>\n",
       "<table border=\"1\" class=\"dataframe\">\n",
       "  <thead>\n",
       "    <tr style=\"text-align: right;\">\n",
       "      <th></th>\n",
       "      <th>Unnamed: 0</th>\n",
       "      <th>collector</th>\n",
       "      <th>country</th>\n",
       "      <th>un_subregion</th>\n",
       "      <th>so_region</th>\n",
       "      <th>age_range</th>\n",
       "      <th>age_midpoint</th>\n",
       "      <th>gender</th>\n",
       "      <th>self_identification</th>\n",
       "      <th>occupation</th>\n",
       "      <th>...</th>\n",
       "      <th>important_sameend</th>\n",
       "      <th>important_newtech</th>\n",
       "      <th>important_buildnew</th>\n",
       "      <th>important_buildexisting</th>\n",
       "      <th>important_promotion</th>\n",
       "      <th>important_companymission</th>\n",
       "      <th>important_wfh</th>\n",
       "      <th>important_ownoffice</th>\n",
       "      <th>developer_challenges</th>\n",
       "      <th>why_stack_overflow</th>\n",
       "    </tr>\n",
       "  </thead>\n",
       "  <tbody>\n",
       "    <tr>\n",
       "      <th>0</th>\n",
       "      <td>1888</td>\n",
       "      <td>Facebook</td>\n",
       "      <td>Afghanistan</td>\n",
       "      <td>Southern Asia</td>\n",
       "      <td>Central Asia</td>\n",
       "      <td>20-24</td>\n",
       "      <td>22.0</td>\n",
       "      <td>Male</td>\n",
       "      <td>Programmer</td>\n",
       "      <td>NaN</td>\n",
       "      <td>...</td>\n",
       "      <td>NaN</td>\n",
       "      <td>NaN</td>\n",
       "      <td>NaN</td>\n",
       "      <td>NaN</td>\n",
       "      <td>NaN</td>\n",
       "      <td>NaN</td>\n",
       "      <td>NaN</td>\n",
       "      <td>NaN</td>\n",
       "      <td>NaN</td>\n",
       "      <td>NaN</td>\n",
       "    </tr>\n",
       "    <tr>\n",
       "      <th>1</th>\n",
       "      <td>4637</td>\n",
       "      <td>Facebook</td>\n",
       "      <td>Afghanistan</td>\n",
       "      <td>Southern Asia</td>\n",
       "      <td>Central Asia</td>\n",
       "      <td>30-34</td>\n",
       "      <td>32.0</td>\n",
       "      <td>Male</td>\n",
       "      <td>Developer; Engineer; Programmer</td>\n",
       "      <td>Mobile developer - iOS</td>\n",
       "      <td>...</td>\n",
       "      <td>This is somewhat important</td>\n",
       "      <td>This is very important</td>\n",
       "      <td>This is very important</td>\n",
       "      <td>I don't care about this</td>\n",
       "      <td>This is somewhat important</td>\n",
       "      <td>This is somewhat important</td>\n",
       "      <td>I don't care about this</td>\n",
       "      <td>I don't care about this</td>\n",
       "      <td>Unrealistic expectations; Interacting with non...</td>\n",
       "      <td>To get help for my job; Because I can't do my ...</td>\n",
       "    </tr>\n",
       "    <tr>\n",
       "      <th>2</th>\n",
       "      <td>11164</td>\n",
       "      <td>Facebook</td>\n",
       "      <td>Afghanistan</td>\n",
       "      <td>Southern Asia</td>\n",
       "      <td>Central Asia</td>\n",
       "      <td>NaN</td>\n",
       "      <td>nan</td>\n",
       "      <td>NaN</td>\n",
       "      <td>NaN</td>\n",
       "      <td>NaN</td>\n",
       "      <td>...</td>\n",
       "      <td>NaN</td>\n",
       "      <td>NaN</td>\n",
       "      <td>NaN</td>\n",
       "      <td>NaN</td>\n",
       "      <td>NaN</td>\n",
       "      <td>NaN</td>\n",
       "      <td>NaN</td>\n",
       "      <td>NaN</td>\n",
       "      <td>NaN</td>\n",
       "      <td>NaN</td>\n",
       "    </tr>\n",
       "    <tr>\n",
       "      <th>3</th>\n",
       "      <td>21378</td>\n",
       "      <td>Facebook</td>\n",
       "      <td>Afghanistan</td>\n",
       "      <td>Southern Asia</td>\n",
       "      <td>Central Asia</td>\n",
       "      <td>NaN</td>\n",
       "      <td>nan</td>\n",
       "      <td>Female</td>\n",
       "      <td>Engineer</td>\n",
       "      <td>DevOps</td>\n",
       "      <td>...</td>\n",
       "      <td>I don't care about this</td>\n",
       "      <td>This is somewhat important</td>\n",
       "      <td>This is very important</td>\n",
       "      <td>This is very important</td>\n",
       "      <td>I don't care about this</td>\n",
       "      <td>I don't care about this</td>\n",
       "      <td>This is very important</td>\n",
       "      <td>This is somewhat important</td>\n",
       "      <td>Corporate policies; Interacting with non-techn...</td>\n",
       "      <td>To get help for my job; Beacause I love to learn</td>\n",
       "    </tr>\n",
       "    <tr>\n",
       "      <th>4</th>\n",
       "      <td>30280</td>\n",
       "      <td>Facebook</td>\n",
       "      <td>Afghanistan</td>\n",
       "      <td>Southern Asia</td>\n",
       "      <td>Central Asia</td>\n",
       "      <td>&gt; 60</td>\n",
       "      <td>65.0</td>\n",
       "      <td>Prefer not to disclose</td>\n",
       "      <td>Developer; Engineer; Programmer; Sr. Developer...</td>\n",
       "      <td>NaN</td>\n",
       "      <td>...</td>\n",
       "      <td>NaN</td>\n",
       "      <td>NaN</td>\n",
       "      <td>NaN</td>\n",
       "      <td>NaN</td>\n",
       "      <td>NaN</td>\n",
       "      <td>NaN</td>\n",
       "      <td>NaN</td>\n",
       "      <td>NaN</td>\n",
       "      <td>NaN</td>\n",
       "      <td>NaN</td>\n",
       "    </tr>\n",
       "  </tbody>\n",
       "</table>\n",
       "<p>5 rows × 66 columns</p>\n",
       "</div>"
      ],
      "text/plain": [
       "   Unnamed: 0 collector      country   un_subregion     so_region age_range  \\\n",
       "0        1888  Facebook  Afghanistan  Southern Asia  Central Asia     20-24   \n",
       "1        4637  Facebook  Afghanistan  Southern Asia  Central Asia     30-34   \n",
       "2       11164  Facebook  Afghanistan  Southern Asia  Central Asia       NaN   \n",
       "3       21378  Facebook  Afghanistan  Southern Asia  Central Asia       NaN   \n",
       "4       30280  Facebook  Afghanistan  Southern Asia  Central Asia      > 60   \n",
       "\n",
       "   age_midpoint                  gender  \\\n",
       "0          22.0                    Male   \n",
       "1          32.0                    Male   \n",
       "2           nan                     NaN   \n",
       "3           nan                  Female   \n",
       "4          65.0  Prefer not to disclose   \n",
       "\n",
       "                                 self_identification              occupation  \\\n",
       "0                                         Programmer                     NaN   \n",
       "1                    Developer; Engineer; Programmer  Mobile developer - iOS   \n",
       "2                                                NaN                     NaN   \n",
       "3                                           Engineer                  DevOps   \n",
       "4  Developer; Engineer; Programmer; Sr. Developer...                     NaN   \n",
       "\n",
       "   ...           important_sameend           important_newtech  \\\n",
       "0  ...                         NaN                         NaN   \n",
       "1  ...  This is somewhat important      This is very important   \n",
       "2  ...                         NaN                         NaN   \n",
       "3  ...     I don't care about this  This is somewhat important   \n",
       "4  ...                         NaN                         NaN   \n",
       "\n",
       "       important_buildnew  important_buildexisting  \\\n",
       "0                     NaN                      NaN   \n",
       "1  This is very important  I don't care about this   \n",
       "2                     NaN                      NaN   \n",
       "3  This is very important   This is very important   \n",
       "4                     NaN                      NaN   \n",
       "\n",
       "          important_promotion    important_companymission  \\\n",
       "0                         NaN                         NaN   \n",
       "1  This is somewhat important  This is somewhat important   \n",
       "2                         NaN                         NaN   \n",
       "3     I don't care about this     I don't care about this   \n",
       "4                         NaN                         NaN   \n",
       "\n",
       "             important_wfh         important_ownoffice  \\\n",
       "0                      NaN                         NaN   \n",
       "1  I don't care about this     I don't care about this   \n",
       "2                      NaN                         NaN   \n",
       "3   This is very important  This is somewhat important   \n",
       "4                      NaN                         NaN   \n",
       "\n",
       "                                developer_challenges  \\\n",
       "0                                                NaN   \n",
       "1  Unrealistic expectations; Interacting with non...   \n",
       "2                                                NaN   \n",
       "3  Corporate policies; Interacting with non-techn...   \n",
       "4                                                NaN   \n",
       "\n",
       "                                  why_stack_overflow  \n",
       "0                                                NaN  \n",
       "1  To get help for my job; Because I can't do my ...  \n",
       "2                                                NaN  \n",
       "3   To get help for my job; Beacause I love to learn  \n",
       "4                                                NaN  \n",
       "\n",
       "[5 rows x 66 columns]"
      ]
     },
     "execution_count": 37,
     "metadata": {},
     "output_type": "execute_result"
    }
   ],
   "source": [
    "slicing_1.iloc[0:5,] # 5 rows and all columns "
   ]
  },
  {
   "cell_type": "markdown",
   "metadata": {},
   "source": [
    "__Difference between loc and iloc__:    \n",
    "Loc = finds or subsets the data basis the name of the var     \n",
    "iLoc = finds or subsets the data basis the position of the var"
   ]
  },
  {
   "cell_type": "code",
   "execution_count": 38,
   "metadata": {
    "scrolled": true
   },
   "outputs": [
    {
     "data": {
      "text/html": [
       "<div>\n",
       "<style scoped>\n",
       "    .dataframe tbody tr th:only-of-type {\n",
       "        vertical-align: middle;\n",
       "    }\n",
       "\n",
       "    .dataframe tbody tr th {\n",
       "        vertical-align: top;\n",
       "    }\n",
       "\n",
       "    .dataframe thead th {\n",
       "        text-align: right;\n",
       "    }\n",
       "</style>\n",
       "<table border=\"1\" class=\"dataframe\">\n",
       "  <thead>\n",
       "    <tr style=\"text-align: right;\">\n",
       "      <th></th>\n",
       "      <th>Unnamed: 0</th>\n",
       "      <th>collector</th>\n",
       "      <th>country</th>\n",
       "      <th>un_subregion</th>\n",
       "      <th>so_region</th>\n",
       "      <th>age_range</th>\n",
       "      <th>age_midpoint</th>\n",
       "      <th>gender</th>\n",
       "      <th>self_identification</th>\n",
       "      <th>occupation</th>\n",
       "      <th>...</th>\n",
       "      <th>important_sameend</th>\n",
       "      <th>important_newtech</th>\n",
       "      <th>important_buildnew</th>\n",
       "      <th>important_buildexisting</th>\n",
       "      <th>important_promotion</th>\n",
       "      <th>important_companymission</th>\n",
       "      <th>important_wfh</th>\n",
       "      <th>important_ownoffice</th>\n",
       "      <th>developer_challenges</th>\n",
       "      <th>why_stack_overflow</th>\n",
       "    </tr>\n",
       "  </thead>\n",
       "  <tbody>\n",
       "    <tr>\n",
       "      <th>0</th>\n",
       "      <td>1888</td>\n",
       "      <td>Facebook</td>\n",
       "      <td>Afghanistan</td>\n",
       "      <td>Southern Asia</td>\n",
       "      <td>Central Asia</td>\n",
       "      <td>20-24</td>\n",
       "      <td>22.0</td>\n",
       "      <td>Male</td>\n",
       "      <td>Programmer</td>\n",
       "      <td>NaN</td>\n",
       "      <td>...</td>\n",
       "      <td>NaN</td>\n",
       "      <td>NaN</td>\n",
       "      <td>NaN</td>\n",
       "      <td>NaN</td>\n",
       "      <td>NaN</td>\n",
       "      <td>NaN</td>\n",
       "      <td>NaN</td>\n",
       "      <td>NaN</td>\n",
       "      <td>NaN</td>\n",
       "      <td>NaN</td>\n",
       "    </tr>\n",
       "    <tr>\n",
       "      <th>1</th>\n",
       "      <td>4637</td>\n",
       "      <td>Facebook</td>\n",
       "      <td>Afghanistan</td>\n",
       "      <td>Southern Asia</td>\n",
       "      <td>Central Asia</td>\n",
       "      <td>30-34</td>\n",
       "      <td>32.0</td>\n",
       "      <td>Male</td>\n",
       "      <td>Developer; Engineer; Programmer</td>\n",
       "      <td>Mobile developer - iOS</td>\n",
       "      <td>...</td>\n",
       "      <td>This is somewhat important</td>\n",
       "      <td>This is very important</td>\n",
       "      <td>This is very important</td>\n",
       "      <td>I don't care about this</td>\n",
       "      <td>This is somewhat important</td>\n",
       "      <td>This is somewhat important</td>\n",
       "      <td>I don't care about this</td>\n",
       "      <td>I don't care about this</td>\n",
       "      <td>Unrealistic expectations; Interacting with non...</td>\n",
       "      <td>To get help for my job; Because I can't do my ...</td>\n",
       "    </tr>\n",
       "    <tr>\n",
       "      <th>2</th>\n",
       "      <td>11164</td>\n",
       "      <td>Facebook</td>\n",
       "      <td>Afghanistan</td>\n",
       "      <td>Southern Asia</td>\n",
       "      <td>Central Asia</td>\n",
       "      <td>NaN</td>\n",
       "      <td>nan</td>\n",
       "      <td>NaN</td>\n",
       "      <td>NaN</td>\n",
       "      <td>NaN</td>\n",
       "      <td>...</td>\n",
       "      <td>NaN</td>\n",
       "      <td>NaN</td>\n",
       "      <td>NaN</td>\n",
       "      <td>NaN</td>\n",
       "      <td>NaN</td>\n",
       "      <td>NaN</td>\n",
       "      <td>NaN</td>\n",
       "      <td>NaN</td>\n",
       "      <td>NaN</td>\n",
       "      <td>NaN</td>\n",
       "    </tr>\n",
       "    <tr>\n",
       "      <th>3</th>\n",
       "      <td>21378</td>\n",
       "      <td>Facebook</td>\n",
       "      <td>Afghanistan</td>\n",
       "      <td>Southern Asia</td>\n",
       "      <td>Central Asia</td>\n",
       "      <td>NaN</td>\n",
       "      <td>nan</td>\n",
       "      <td>Female</td>\n",
       "      <td>Engineer</td>\n",
       "      <td>DevOps</td>\n",
       "      <td>...</td>\n",
       "      <td>I don't care about this</td>\n",
       "      <td>This is somewhat important</td>\n",
       "      <td>This is very important</td>\n",
       "      <td>This is very important</td>\n",
       "      <td>I don't care about this</td>\n",
       "      <td>I don't care about this</td>\n",
       "      <td>This is very important</td>\n",
       "      <td>This is somewhat important</td>\n",
       "      <td>Corporate policies; Interacting with non-techn...</td>\n",
       "      <td>To get help for my job; Beacause I love to learn</td>\n",
       "    </tr>\n",
       "    <tr>\n",
       "      <th>4</th>\n",
       "      <td>30280</td>\n",
       "      <td>Facebook</td>\n",
       "      <td>Afghanistan</td>\n",
       "      <td>Southern Asia</td>\n",
       "      <td>Central Asia</td>\n",
       "      <td>&gt; 60</td>\n",
       "      <td>65.0</td>\n",
       "      <td>Prefer not to disclose</td>\n",
       "      <td>Developer; Engineer; Programmer; Sr. Developer...</td>\n",
       "      <td>NaN</td>\n",
       "      <td>...</td>\n",
       "      <td>NaN</td>\n",
       "      <td>NaN</td>\n",
       "      <td>NaN</td>\n",
       "      <td>NaN</td>\n",
       "      <td>NaN</td>\n",
       "      <td>NaN</td>\n",
       "      <td>NaN</td>\n",
       "      <td>NaN</td>\n",
       "      <td>NaN</td>\n",
       "      <td>NaN</td>\n",
       "    </tr>\n",
       "    <tr>\n",
       "      <th>...</th>\n",
       "      <td>...</td>\n",
       "      <td>...</td>\n",
       "      <td>...</td>\n",
       "      <td>...</td>\n",
       "      <td>...</td>\n",
       "      <td>...</td>\n",
       "      <td>...</td>\n",
       "      <td>...</td>\n",
       "      <td>...</td>\n",
       "      <td>...</td>\n",
       "      <td>...</td>\n",
       "      <td>...</td>\n",
       "      <td>...</td>\n",
       "      <td>...</td>\n",
       "      <td>...</td>\n",
       "      <td>...</td>\n",
       "      <td>...</td>\n",
       "      <td>...</td>\n",
       "      <td>...</td>\n",
       "      <td>...</td>\n",
       "      <td>...</td>\n",
       "    </tr>\n",
       "    <tr>\n",
       "      <th>1994</th>\n",
       "      <td>3443</td>\n",
       "      <td>Facebook</td>\n",
       "      <td>Germany</td>\n",
       "      <td>Western Europe</td>\n",
       "      <td>Western Europe</td>\n",
       "      <td>35-39</td>\n",
       "      <td>37.0</td>\n",
       "      <td>Male</td>\n",
       "      <td>Full-stack Developer</td>\n",
       "      <td>NaN</td>\n",
       "      <td>...</td>\n",
       "      <td>NaN</td>\n",
       "      <td>NaN</td>\n",
       "      <td>NaN</td>\n",
       "      <td>NaN</td>\n",
       "      <td>NaN</td>\n",
       "      <td>NaN</td>\n",
       "      <td>NaN</td>\n",
       "      <td>NaN</td>\n",
       "      <td>NaN</td>\n",
       "      <td>NaN</td>\n",
       "    </tr>\n",
       "    <tr>\n",
       "      <th>1995</th>\n",
       "      <td>3444</td>\n",
       "      <td>Facebook</td>\n",
       "      <td>Germany</td>\n",
       "      <td>Western Europe</td>\n",
       "      <td>Western Europe</td>\n",
       "      <td>30-34</td>\n",
       "      <td>32.0</td>\n",
       "      <td>Male</td>\n",
       "      <td>Developer; Manager; Ninja</td>\n",
       "      <td>Executive (VP of Eng., CTO, CIO, etc.)</td>\n",
       "      <td>...</td>\n",
       "      <td>I don't care about this</td>\n",
       "      <td>This is very important</td>\n",
       "      <td>This is somewhat important</td>\n",
       "      <td>This is somewhat important</td>\n",
       "      <td>This is somewhat important</td>\n",
       "      <td>This is somewhat important</td>\n",
       "      <td>This is somewhat important</td>\n",
       "      <td>This is somewhat important</td>\n",
       "      <td>NaN</td>\n",
       "      <td>NaN</td>\n",
       "    </tr>\n",
       "    <tr>\n",
       "      <th>1996</th>\n",
       "      <td>3447</td>\n",
       "      <td>Facebook</td>\n",
       "      <td>Germany</td>\n",
       "      <td>Western Europe</td>\n",
       "      <td>Western Europe</td>\n",
       "      <td>20-24</td>\n",
       "      <td>22.0</td>\n",
       "      <td>Male</td>\n",
       "      <td>Rockstar; Full Stack Overflow Developer; Hacker</td>\n",
       "      <td>NaN</td>\n",
       "      <td>...</td>\n",
       "      <td>NaN</td>\n",
       "      <td>NaN</td>\n",
       "      <td>NaN</td>\n",
       "      <td>NaN</td>\n",
       "      <td>NaN</td>\n",
       "      <td>NaN</td>\n",
       "      <td>NaN</td>\n",
       "      <td>NaN</td>\n",
       "      <td>NaN</td>\n",
       "      <td>NaN</td>\n",
       "    </tr>\n",
       "    <tr>\n",
       "      <th>1997</th>\n",
       "      <td>3451</td>\n",
       "      <td>Facebook</td>\n",
       "      <td>Germany</td>\n",
       "      <td>Western Europe</td>\n",
       "      <td>Western Europe</td>\n",
       "      <td>50-59</td>\n",
       "      <td>54.5</td>\n",
       "      <td>Male</td>\n",
       "      <td>Ninja</td>\n",
       "      <td>Embedded application developer</td>\n",
       "      <td>...</td>\n",
       "      <td>I don't care about this</td>\n",
       "      <td>This is very important</td>\n",
       "      <td>This is very important</td>\n",
       "      <td>This is very important</td>\n",
       "      <td>I don't care about this</td>\n",
       "      <td>I don't care about this</td>\n",
       "      <td>This is somewhat important</td>\n",
       "      <td>This is somewhat important</td>\n",
       "      <td>Poor team dynamics; Inefficient development pr...</td>\n",
       "      <td>I don't really use Stack Overflow. I just take...</td>\n",
       "    </tr>\n",
       "    <tr>\n",
       "      <th>1998</th>\n",
       "      <td>3454</td>\n",
       "      <td>Facebook</td>\n",
       "      <td>Germany</td>\n",
       "      <td>Western Europe</td>\n",
       "      <td>Western Europe</td>\n",
       "      <td>30-34</td>\n",
       "      <td>32.0</td>\n",
       "      <td>Male</td>\n",
       "      <td>Developer; Engineer; Programmer; Rockstar</td>\n",
       "      <td>other</td>\n",
       "      <td>...</td>\n",
       "      <td>This is somewhat important</td>\n",
       "      <td>This is very important</td>\n",
       "      <td>This is very important</td>\n",
       "      <td>This is very important</td>\n",
       "      <td>This is very important</td>\n",
       "      <td>This is very important</td>\n",
       "      <td>This is very important</td>\n",
       "      <td>This is very important</td>\n",
       "      <td>Poor team dynamics; Inefficient development pr...</td>\n",
       "      <td>To get help for my job</td>\n",
       "    </tr>\n",
       "  </tbody>\n",
       "</table>\n",
       "<p>1811 rows × 66 columns</p>\n",
       "</div>"
      ],
      "text/plain": [
       "      Unnamed: 0 collector      country    un_subregion       so_region  \\\n",
       "0           1888  Facebook  Afghanistan   Southern Asia    Central Asia   \n",
       "1           4637  Facebook  Afghanistan   Southern Asia    Central Asia   \n",
       "2          11164  Facebook  Afghanistan   Southern Asia    Central Asia   \n",
       "3          21378  Facebook  Afghanistan   Southern Asia    Central Asia   \n",
       "4          30280  Facebook  Afghanistan   Southern Asia    Central Asia   \n",
       "...          ...       ...          ...             ...             ...   \n",
       "1994        3443  Facebook      Germany  Western Europe  Western Europe   \n",
       "1995        3444  Facebook      Germany  Western Europe  Western Europe   \n",
       "1996        3447  Facebook      Germany  Western Europe  Western Europe   \n",
       "1997        3451  Facebook      Germany  Western Europe  Western Europe   \n",
       "1998        3454  Facebook      Germany  Western Europe  Western Europe   \n",
       "\n",
       "     age_range  age_midpoint                  gender  \\\n",
       "0        20-24          22.0                    Male   \n",
       "1        30-34          32.0                    Male   \n",
       "2          NaN           nan                     NaN   \n",
       "3          NaN           nan                  Female   \n",
       "4         > 60          65.0  Prefer not to disclose   \n",
       "...        ...           ...                     ...   \n",
       "1994     35-39          37.0                    Male   \n",
       "1995     30-34          32.0                    Male   \n",
       "1996     20-24          22.0                    Male   \n",
       "1997     50-59          54.5                    Male   \n",
       "1998     30-34          32.0                    Male   \n",
       "\n",
       "                                    self_identification  \\\n",
       "0                                            Programmer   \n",
       "1                       Developer; Engineer; Programmer   \n",
       "2                                                   NaN   \n",
       "3                                              Engineer   \n",
       "4     Developer; Engineer; Programmer; Sr. Developer...   \n",
       "...                                                 ...   \n",
       "1994                               Full-stack Developer   \n",
       "1995                          Developer; Manager; Ninja   \n",
       "1996    Rockstar; Full Stack Overflow Developer; Hacker   \n",
       "1997                                              Ninja   \n",
       "1998          Developer; Engineer; Programmer; Rockstar   \n",
       "\n",
       "                                  occupation  ...           important_sameend  \\\n",
       "0                                        NaN  ...                         NaN   \n",
       "1                     Mobile developer - iOS  ...  This is somewhat important   \n",
       "2                                        NaN  ...                         NaN   \n",
       "3                                     DevOps  ...     I don't care about this   \n",
       "4                                        NaN  ...                         NaN   \n",
       "...                                      ...  ...                         ...   \n",
       "1994                                     NaN  ...                         NaN   \n",
       "1995  Executive (VP of Eng., CTO, CIO, etc.)  ...     I don't care about this   \n",
       "1996                                     NaN  ...                         NaN   \n",
       "1997          Embedded application developer  ...     I don't care about this   \n",
       "1998                                   other  ...  This is somewhat important   \n",
       "\n",
       "               important_newtech          important_buildnew  \\\n",
       "0                            NaN                         NaN   \n",
       "1         This is very important      This is very important   \n",
       "2                            NaN                         NaN   \n",
       "3     This is somewhat important      This is very important   \n",
       "4                            NaN                         NaN   \n",
       "...                          ...                         ...   \n",
       "1994                         NaN                         NaN   \n",
       "1995      This is very important  This is somewhat important   \n",
       "1996                         NaN                         NaN   \n",
       "1997      This is very important      This is very important   \n",
       "1998      This is very important      This is very important   \n",
       "\n",
       "         important_buildexisting         important_promotion  \\\n",
       "0                            NaN                         NaN   \n",
       "1        I don't care about this  This is somewhat important   \n",
       "2                            NaN                         NaN   \n",
       "3         This is very important     I don't care about this   \n",
       "4                            NaN                         NaN   \n",
       "...                          ...                         ...   \n",
       "1994                         NaN                         NaN   \n",
       "1995  This is somewhat important  This is somewhat important   \n",
       "1996                         NaN                         NaN   \n",
       "1997      This is very important     I don't care about this   \n",
       "1998      This is very important      This is very important   \n",
       "\n",
       "        important_companymission               important_wfh  \\\n",
       "0                            NaN                         NaN   \n",
       "1     This is somewhat important     I don't care about this   \n",
       "2                            NaN                         NaN   \n",
       "3        I don't care about this      This is very important   \n",
       "4                            NaN                         NaN   \n",
       "...                          ...                         ...   \n",
       "1994                         NaN                         NaN   \n",
       "1995  This is somewhat important  This is somewhat important   \n",
       "1996                         NaN                         NaN   \n",
       "1997     I don't care about this  This is somewhat important   \n",
       "1998      This is very important      This is very important   \n",
       "\n",
       "             important_ownoffice  \\\n",
       "0                            NaN   \n",
       "1        I don't care about this   \n",
       "2                            NaN   \n",
       "3     This is somewhat important   \n",
       "4                            NaN   \n",
       "...                          ...   \n",
       "1994                         NaN   \n",
       "1995  This is somewhat important   \n",
       "1996                         NaN   \n",
       "1997  This is somewhat important   \n",
       "1998      This is very important   \n",
       "\n",
       "                                   developer_challenges  \\\n",
       "0                                                   NaN   \n",
       "1     Unrealistic expectations; Interacting with non...   \n",
       "2                                                   NaN   \n",
       "3     Corporate policies; Interacting with non-techn...   \n",
       "4                                                   NaN   \n",
       "...                                                 ...   \n",
       "1994                                                NaN   \n",
       "1995                                                NaN   \n",
       "1996                                                NaN   \n",
       "1997  Poor team dynamics; Inefficient development pr...   \n",
       "1998  Poor team dynamics; Inefficient development pr...   \n",
       "\n",
       "                                     why_stack_overflow  \n",
       "0                                                   NaN  \n",
       "1     To get help for my job; Because I can't do my ...  \n",
       "2                                                   NaN  \n",
       "3      To get help for my job; Beacause I love to learn  \n",
       "4                                                   NaN  \n",
       "...                                                 ...  \n",
       "1994                                                NaN  \n",
       "1995                                                NaN  \n",
       "1996                                                NaN  \n",
       "1997  I don't really use Stack Overflow. I just take...  \n",
       "1998                             To get help for my job  \n",
       "\n",
       "[1811 rows x 66 columns]"
      ]
     },
     "execution_count": 38,
     "metadata": {},
     "output_type": "execute_result"
    }
   ],
   "source": [
    "slicing_1[slicing_1.self_identification=='Developer']\n",
    "slicing_1[slicing_1.self_identification!='Developer']"
   ]
  },
  {
   "cell_type": "code",
   "execution_count": 39,
   "metadata": {},
   "outputs": [
    {
     "data": {
      "text/plain": [
       "(1999, 66)"
      ]
     },
     "execution_count": 39,
     "metadata": {},
     "output_type": "execute_result"
    }
   ],
   "source": [
    "slicing_1.columns\n",
    "# find name of all columns \n",
    "slicing_1.shape\n",
    "# find total rows and columns "
   ]
  },
  {
   "cell_type": "code",
   "execution_count": 40,
   "metadata": {
    "scrolled": true
   },
   "outputs": [
    {
     "data": {
      "text/plain": [
       "188"
      ]
     },
     "execution_count": 40,
     "metadata": {},
     "output_type": "execute_result"
    }
   ],
   "source": [
    "slicing_1[slicing_1.self_identification=='Developer'].self_identification.count()"
   ]
  },
  {
   "cell_type": "markdown",
   "metadata": {},
   "source": [
    "### Dropping Multiple Variables \n",
    "modDfObj = dfObj.drop(['Age' , 'Name'] , axis='columns')     \n",
    "imb.drop(['Unnamed: 32'] , axis=1, inplace=True)"
   ]
  },
  {
   "cell_type": "code",
   "execution_count": 41,
   "metadata": {},
   "outputs": [
    {
     "data": {
      "text/html": [
       "<div>\n",
       "<style scoped>\n",
       "    .dataframe tbody tr th:only-of-type {\n",
       "        vertical-align: middle;\n",
       "    }\n",
       "\n",
       "    .dataframe tbody tr th {\n",
       "        vertical-align: top;\n",
       "    }\n",
       "\n",
       "    .dataframe thead th {\n",
       "        text-align: right;\n",
       "    }\n",
       "</style>\n",
       "<table border=\"1\" class=\"dataframe\">\n",
       "  <thead>\n",
       "    <tr style=\"text-align: right;\">\n",
       "      <th></th>\n",
       "      <th>Unnamed: 0</th>\n",
       "      <th>age_midpoint</th>\n",
       "      <th>experience_midpoint</th>\n",
       "      <th>salary_midpoint</th>\n",
       "      <th>big_mac_index</th>\n",
       "      <th>programming_ability</th>\n",
       "    </tr>\n",
       "  </thead>\n",
       "  <tbody>\n",
       "    <tr>\n",
       "      <th>count</th>\n",
       "      <td>1,999.0</td>\n",
       "      <td>1,985.0</td>\n",
       "      <td>1,705.0</td>\n",
       "      <td>1,433.0</td>\n",
       "      <td>1,548.0</td>\n",
       "      <td>1,686.0</td>\n",
       "    </tr>\n",
       "    <tr>\n",
       "      <th>mean</th>\n",
       "      <td>25,590.616808404204</td>\n",
       "      <td>28.455415617128462</td>\n",
       "      <td>6.455718475073314</td>\n",
       "      <td>39,546.406140963016</td>\n",
       "      <td>4.00614341085263</td>\n",
       "      <td>7.102609727164888</td>\n",
       "    </tr>\n",
       "    <tr>\n",
       "      <th>std</th>\n",
       "      <td>17,656.53170898033</td>\n",
       "      <td>8.212979139865949</td>\n",
       "      <td>4.343449735112469</td>\n",
       "      <td>35,640.636958217256</td>\n",
       "      <td>0.44558400350284844</td>\n",
       "      <td>1.7687106600379932</td>\n",
       "    </tr>\n",
       "    <tr>\n",
       "      <th>min</th>\n",
       "      <td>65.0</td>\n",
       "      <td>16.0</td>\n",
       "      <td>0.5</td>\n",
       "      <td>5,000.0</td>\n",
       "      <td>2.68</td>\n",
       "      <td>1.0</td>\n",
       "    </tr>\n",
       "    <tr>\n",
       "      <th>25%</th>\n",
       "      <td>7,522.5</td>\n",
       "      <td>22.0</td>\n",
       "      <td>3.5</td>\n",
       "      <td>15,000.0</td>\n",
       "      <td>3.76</td>\n",
       "      <td>6.0</td>\n",
       "    </tr>\n",
       "    <tr>\n",
       "      <th>50%</th>\n",
       "      <td>26,244.0</td>\n",
       "      <td>27.0</td>\n",
       "      <td>3.5</td>\n",
       "      <td>35,000.0</td>\n",
       "      <td>4.25</td>\n",
       "      <td>7.0</td>\n",
       "    </tr>\n",
       "    <tr>\n",
       "      <th>75%</th>\n",
       "      <td>42,467.0</td>\n",
       "      <td>32.0</td>\n",
       "      <td>8.0</td>\n",
       "      <td>55,000.0</td>\n",
       "      <td>4.41</td>\n",
       "      <td>8.0</td>\n",
       "    </tr>\n",
       "    <tr>\n",
       "      <th>max</th>\n",
       "      <td>53,155.0</td>\n",
       "      <td>65.0</td>\n",
       "      <td>13.0</td>\n",
       "      <td>210,000.0</td>\n",
       "      <td>4.41</td>\n",
       "      <td>10.0</td>\n",
       "    </tr>\n",
       "  </tbody>\n",
       "</table>\n",
       "</div>"
      ],
      "text/plain": [
       "               Unnamed: 0       age_midpoint  experience_midpoint  \\\n",
       "count             1,999.0            1,985.0              1,705.0   \n",
       "mean  25,590.616808404204 28.455415617128462    6.455718475073314   \n",
       "std    17,656.53170898033  8.212979139865949    4.343449735112469   \n",
       "min                  65.0               16.0                  0.5   \n",
       "25%               7,522.5               22.0                  3.5   \n",
       "50%              26,244.0               27.0                  3.5   \n",
       "75%              42,467.0               32.0                  8.0   \n",
       "max              53,155.0               65.0                 13.0   \n",
       "\n",
       "          salary_midpoint       big_mac_index  programming_ability  \n",
       "count             1,433.0             1,548.0              1,686.0  \n",
       "mean  39,546.406140963016    4.00614341085263    7.102609727164888  \n",
       "std   35,640.636958217256 0.44558400350284844   1.7687106600379932  \n",
       "min               5,000.0                2.68                  1.0  \n",
       "25%              15,000.0                3.76                  6.0  \n",
       "50%              35,000.0                4.25                  7.0  \n",
       "75%              55,000.0                4.41                  8.0  \n",
       "max             210,000.0                4.41                 10.0  "
      ]
     },
     "execution_count": 41,
     "metadata": {},
     "output_type": "execute_result"
    }
   ],
   "source": [
    "slicing_1.describe()\n",
    "# Finding Summary Statiscs "
   ]
  },
  {
   "cell_type": "code",
   "execution_count": 42,
   "metadata": {
    "scrolled": true
   },
   "outputs": [
    {
     "data": {
      "text/plain": [
       "Unnamed: 0                    0\n",
       "collector                     0\n",
       "country                       0\n",
       "un_subregion                  0\n",
       "so_region                     0\n",
       "                           ... \n",
       "important_companymission    594\n",
       "important_wfh               598\n",
       "important_ownoffice         595\n",
       "developer_challenges        634\n",
       "why_stack_overflow          627\n",
       "Length: 66, dtype: int64"
      ]
     },
     "execution_count": 42,
     "metadata": {},
     "output_type": "execute_result"
    }
   ],
   "source": [
    "slicing_1.isna().sum() # gives true and false for missing entries"
   ]
  },
  {
   "cell_type": "code",
   "execution_count": 43,
   "metadata": {},
   "outputs": [
    {
     "data": {
      "text/html": [
       "<div>\n",
       "<style scoped>\n",
       "    .dataframe tbody tr th:only-of-type {\n",
       "        vertical-align: middle;\n",
       "    }\n",
       "\n",
       "    .dataframe tbody tr th {\n",
       "        vertical-align: top;\n",
       "    }\n",
       "\n",
       "    .dataframe thead th {\n",
       "        text-align: right;\n",
       "    }\n",
       "</style>\n",
       "<table border=\"1\" class=\"dataframe\">\n",
       "  <thead>\n",
       "    <tr style=\"text-align: right;\">\n",
       "      <th></th>\n",
       "      <th>0</th>\n",
       "    </tr>\n",
       "  </thead>\n",
       "  <tbody>\n",
       "    <tr>\n",
       "      <th>4</th>\n",
       "      <td>2</td>\n",
       "    </tr>\n",
       "    <tr>\n",
       "      <th>8</th>\n",
       "      <td>4</td>\n",
       "    </tr>\n",
       "    <tr>\n",
       "      <th>9</th>\n",
       "      <td>6</td>\n",
       "    </tr>\n",
       "  </tbody>\n",
       "</table>\n",
       "</div>"
      ],
      "text/plain": [
       "   0\n",
       "4  2\n",
       "8  4\n",
       "9  6"
      ]
     },
     "execution_count": 43,
     "metadata": {},
     "output_type": "execute_result"
    }
   ],
   "source": [
    "import pandas as pd\n",
    "df1= pd.DataFrame([2,4,6],[4,8,9])\n",
    "df1"
   ]
  },
  {
   "cell_type": "code",
   "execution_count": 44,
   "metadata": {},
   "outputs": [
    {
     "data": {
      "text/html": [
       "<div>\n",
       "<style scoped>\n",
       "    .dataframe tbody tr th:only-of-type {\n",
       "        vertical-align: middle;\n",
       "    }\n",
       "\n",
       "    .dataframe tbody tr th {\n",
       "        vertical-align: top;\n",
       "    }\n",
       "\n",
       "    .dataframe thead th {\n",
       "        text-align: right;\n",
       "    }\n",
       "</style>\n",
       "<table border=\"1\" class=\"dataframe\">\n",
       "  <thead>\n",
       "    <tr style=\"text-align: right;\">\n",
       "      <th></th>\n",
       "      <th>One</th>\n",
       "      <th>Two</th>\n",
       "      <th>Three</th>\n",
       "    </tr>\n",
       "  </thead>\n",
       "  <tbody>\n",
       "    <tr>\n",
       "      <th>0</th>\n",
       "      <td>1</td>\n",
       "      <td>2</td>\n",
       "      <td>3</td>\n",
       "    </tr>\n",
       "    <tr>\n",
       "      <th>1</th>\n",
       "      <td>4</td>\n",
       "      <td>5</td>\n",
       "      <td>6</td>\n",
       "    </tr>\n",
       "  </tbody>\n",
       "</table>\n",
       "</div>"
      ],
      "text/plain": [
       "   One  Two  Three\n",
       "0    1    2      3\n",
       "1    4    5      6"
      ]
     },
     "execution_count": 44,
     "metadata": {},
     "output_type": "execute_result"
    }
   ],
   "source": [
    "df2= pd.DataFrame([[1,2,3],[4,5,6]], columns=['One','Two','Three'])\n",
    "df2"
   ]
  },
  {
   "cell_type": "markdown",
   "metadata": {},
   "source": [
    "#### Add Index to a Dataframe"
   ]
  },
  {
   "cell_type": "code",
   "execution_count": 45,
   "metadata": {},
   "outputs": [
    {
     "data": {
      "text/html": [
       "<div>\n",
       "<style scoped>\n",
       "    .dataframe tbody tr th:only-of-type {\n",
       "        vertical-align: middle;\n",
       "    }\n",
       "\n",
       "    .dataframe tbody tr th {\n",
       "        vertical-align: top;\n",
       "    }\n",
       "\n",
       "    .dataframe thead th {\n",
       "        text-align: right;\n",
       "    }\n",
       "</style>\n",
       "<table border=\"1\" class=\"dataframe\">\n",
       "  <thead>\n",
       "    <tr style=\"text-align: right;\">\n",
       "      <th></th>\n",
       "      <th>One</th>\n",
       "      <th>Two</th>\n",
       "      <th>Three</th>\n",
       "    </tr>\n",
       "  </thead>\n",
       "  <tbody>\n",
       "    <tr>\n",
       "      <th>First</th>\n",
       "      <td>11</td>\n",
       "      <td>22</td>\n",
       "      <td>33</td>\n",
       "    </tr>\n",
       "    <tr>\n",
       "      <th>Second</th>\n",
       "      <td>34</td>\n",
       "      <td>45</td>\n",
       "      <td>56</td>\n",
       "    </tr>\n",
       "  </tbody>\n",
       "</table>\n",
       "</div>"
      ],
      "text/plain": [
       "        One  Two  Three\n",
       "First    11   22     33\n",
       "Second   34   45     56"
      ]
     },
     "execution_count": 45,
     "metadata": {},
     "output_type": "execute_result"
    }
   ],
   "source": [
    "df11= pd.DataFrame([[11,22,33,],[34,45,56]], columns=['One','Two','Three'], index=[\"First\",\"Second\"])\n",
    "df11"
   ]
  },
  {
   "cell_type": "code",
   "execution_count": 46,
   "metadata": {},
   "outputs": [
    {
     "data": {
      "text/plain": [
       "44.5"
      ]
     },
     "execution_count": 46,
     "metadata": {},
     "output_type": "execute_result"
    }
   ],
   "source": [
    "df11['One'].mean()\n",
    "df11.Three.mean()"
   ]
  },
  {
   "cell_type": "markdown",
   "metadata": {},
   "source": [
    "### Loading Excel with Pandas "
   ]
  },
  {
   "cell_type": "code",
   "execution_count": 47,
   "metadata": {},
   "outputs": [
    {
     "data": {
      "text/html": [
       "<div>\n",
       "<style scoped>\n",
       "    .dataframe tbody tr th:only-of-type {\n",
       "        vertical-align: middle;\n",
       "    }\n",
       "\n",
       "    .dataframe tbody tr th {\n",
       "        vertical-align: top;\n",
       "    }\n",
       "\n",
       "    .dataframe thead th {\n",
       "        text-align: right;\n",
       "    }\n",
       "</style>\n",
       "<table border=\"1\" class=\"dataframe\">\n",
       "  <thead>\n",
       "    <tr style=\"text-align: right;\">\n",
       "      <th></th>\n",
       "      <th>ID</th>\n",
       "      <th>Address</th>\n",
       "      <th>City</th>\n",
       "      <th>State</th>\n",
       "      <th>Country</th>\n",
       "      <th>Supermarket Name</th>\n",
       "      <th>Number of Employees</th>\n",
       "    </tr>\n",
       "  </thead>\n",
       "  <tbody>\n",
       "    <tr>\n",
       "      <th>0</th>\n",
       "      <td>1</td>\n",
       "      <td>3666 21st St</td>\n",
       "      <td>San Francisco</td>\n",
       "      <td>CA 94114</td>\n",
       "      <td>USA</td>\n",
       "      <td>Madeira</td>\n",
       "      <td>8</td>\n",
       "    </tr>\n",
       "    <tr>\n",
       "      <th>1</th>\n",
       "      <td>2</td>\n",
       "      <td>735 Dolores St</td>\n",
       "      <td>San Francisco</td>\n",
       "      <td>CA 94119</td>\n",
       "      <td>USA</td>\n",
       "      <td>Bready Shop</td>\n",
       "      <td>15</td>\n",
       "    </tr>\n",
       "    <tr>\n",
       "      <th>2</th>\n",
       "      <td>3</td>\n",
       "      <td>332 Hill St</td>\n",
       "      <td>San Francisco</td>\n",
       "      <td>California 94114</td>\n",
       "      <td>USA</td>\n",
       "      <td>Super River</td>\n",
       "      <td>25</td>\n",
       "    </tr>\n",
       "    <tr>\n",
       "      <th>3</th>\n",
       "      <td>4</td>\n",
       "      <td>3995 23rd St</td>\n",
       "      <td>San Francisco</td>\n",
       "      <td>CA 94114</td>\n",
       "      <td>USA</td>\n",
       "      <td>Ben's Shop</td>\n",
       "      <td>10</td>\n",
       "    </tr>\n",
       "    <tr>\n",
       "      <th>4</th>\n",
       "      <td>5</td>\n",
       "      <td>1056 Sanchez St</td>\n",
       "      <td>San Francisco</td>\n",
       "      <td>California</td>\n",
       "      <td>USA</td>\n",
       "      <td>Sanchez</td>\n",
       "      <td>12</td>\n",
       "    </tr>\n",
       "    <tr>\n",
       "      <th>5</th>\n",
       "      <td>6</td>\n",
       "      <td>551 Alvarado St</td>\n",
       "      <td>San Francisco</td>\n",
       "      <td>CA 94114</td>\n",
       "      <td>USA</td>\n",
       "      <td>Richvalley</td>\n",
       "      <td>20</td>\n",
       "    </tr>\n",
       "  </tbody>\n",
       "</table>\n",
       "</div>"
      ],
      "text/plain": [
       "   ID          Address           City             State Country  \\\n",
       "0   1     3666 21st St  San Francisco          CA 94114     USA   \n",
       "1   2   735 Dolores St  San Francisco          CA 94119     USA   \n",
       "2   3      332 Hill St  San Francisco  California 94114     USA   \n",
       "3   4     3995 23rd St  San Francisco          CA 94114     USA   \n",
       "4   5  1056 Sanchez St  San Francisco        California     USA   \n",
       "5   6  551 Alvarado St  San Francisco          CA 94114     USA   \n",
       "\n",
       "  Supermarket Name  Number of Employees  \n",
       "0          Madeira                    8  \n",
       "1      Bready Shop                   15  \n",
       "2      Super River                   25  \n",
       "3       Ben's Shop                   10  \n",
       "4          Sanchez                   12  \n",
       "5       Richvalley                   20  "
      ]
     },
     "execution_count": 47,
     "metadata": {},
     "output_type": "execute_result"
    }
   ],
   "source": [
    "import xlrd\n",
    "pd.read_excel('supermarkets.xlsx')"
   ]
  },
  {
   "cell_type": "markdown",
   "metadata": {},
   "source": [
    "### Rename Column Names"
   ]
  },
  {
   "cell_type": "code",
   "execution_count": 48,
   "metadata": {},
   "outputs": [
    {
     "data": {
      "text/html": [
       "<div>\n",
       "<style scoped>\n",
       "    .dataframe tbody tr th:only-of-type {\n",
       "        vertical-align: middle;\n",
       "    }\n",
       "\n",
       "    .dataframe tbody tr th {\n",
       "        vertical-align: top;\n",
       "    }\n",
       "\n",
       "    .dataframe thead th {\n",
       "        text-align: right;\n",
       "    }\n",
       "</style>\n",
       "<table border=\"1\" class=\"dataframe\">\n",
       "  <thead>\n",
       "    <tr style=\"text-align: right;\">\n",
       "      <th></th>\n",
       "      <th>Eatbale</th>\n",
       "    </tr>\n",
       "  </thead>\n",
       "  <tbody>\n",
       "    <tr>\n",
       "      <th>0</th>\n",
       "      <td>Tomato</td>\n",
       "    </tr>\n",
       "    <tr>\n",
       "      <th>1</th>\n",
       "      <td>Burger</td>\n",
       "    </tr>\n",
       "    <tr>\n",
       "      <th>2</th>\n",
       "      <td>Teabags</td>\n",
       "    </tr>\n",
       "    <tr>\n",
       "      <th>3</th>\n",
       "      <td>Teabags</td>\n",
       "    </tr>\n",
       "  </tbody>\n",
       "</table>\n",
       "</div>"
      ],
      "text/plain": [
       "   Eatbale\n",
       "0   Tomato\n",
       "1   Burger\n",
       "2  Teabags\n",
       "3  Teabags"
      ]
     },
     "execution_count": 48,
     "metadata": {},
     "output_type": "execute_result"
    }
   ],
   "source": [
    "a= pd.read_csv(\"vegetables.txt\", header=None)\n",
    "a.columns=[\"Eatbale\"]\n",
    "a"
   ]
  },
  {
   "cell_type": "markdown",
   "metadata": {},
   "source": [
    "### Adding Column "
   ]
  },
  {
   "cell_type": "code",
   "execution_count": 49,
   "metadata": {},
   "outputs": [
    {
     "data": {
      "text/html": [
       "<div>\n",
       "<style scoped>\n",
       "    .dataframe tbody tr th:only-of-type {\n",
       "        vertical-align: middle;\n",
       "    }\n",
       "\n",
       "    .dataframe tbody tr th {\n",
       "        vertical-align: top;\n",
       "    }\n",
       "\n",
       "    .dataframe thead th {\n",
       "        text-align: right;\n",
       "    }\n",
       "</style>\n",
       "<table border=\"1\" class=\"dataframe\">\n",
       "  <thead>\n",
       "    <tr style=\"text-align: right;\">\n",
       "      <th></th>\n",
       "      <th>Eatbale</th>\n",
       "      <th>country</th>\n",
       "    </tr>\n",
       "  </thead>\n",
       "  <tbody>\n",
       "    <tr>\n",
       "      <th>0</th>\n",
       "      <td>Tomato</td>\n",
       "      <td>North America</td>\n",
       "    </tr>\n",
       "    <tr>\n",
       "      <th>1</th>\n",
       "      <td>Burger</td>\n",
       "      <td>North America</td>\n",
       "    </tr>\n",
       "    <tr>\n",
       "      <th>2</th>\n",
       "      <td>Teabags</td>\n",
       "      <td>North America</td>\n",
       "    </tr>\n",
       "    <tr>\n",
       "      <th>3</th>\n",
       "      <td>Teabags</td>\n",
       "      <td>North America</td>\n",
       "    </tr>\n",
       "  </tbody>\n",
       "</table>\n",
       "</div>"
      ],
      "text/plain": [
       "   Eatbale        country\n",
       "0   Tomato  North America\n",
       "1   Burger  North America\n",
       "2  Teabags  North America\n",
       "3  Teabags  North America"
      ]
     },
     "execution_count": 49,
     "metadata": {},
     "output_type": "execute_result"
    }
   ],
   "source": [
    "a[\"country\"]=a.shape[0]*[\"North America\"]\n",
    "a"
   ]
  },
  {
   "cell_type": "markdown",
   "metadata": {},
   "source": [
    "### Deleting a folder which is not empty"
   ]
  },
  {
   "cell_type": "code",
   "execution_count": 50,
   "metadata": {},
   "outputs": [
    {
     "ename": "FileNotFoundError",
     "evalue": "[WinError 3] The system cannot find the path specified: '/folder_name'",
     "output_type": "error",
     "traceback": [
      "\u001b[1;31m---------------------------------------------------------------------------\u001b[0m",
      "\u001b[1;31mFileNotFoundError\u001b[0m                         Traceback (most recent call last)",
      "\u001b[1;32m<ipython-input-50-54deb60d5a86>\u001b[0m in \u001b[0;36m<module>\u001b[1;34m\u001b[0m\n\u001b[0;32m      1\u001b[0m \u001b[1;32mimport\u001b[0m \u001b[0mshutil\u001b[0m\u001b[1;33m\u001b[0m\u001b[1;33m\u001b[0m\u001b[0m\n\u001b[0;32m      2\u001b[0m \u001b[1;33m\u001b[0m\u001b[0m\n\u001b[1;32m----> 3\u001b[1;33m \u001b[0mshutil\u001b[0m\u001b[1;33m.\u001b[0m\u001b[0mrmtree\u001b[0m\u001b[1;33m(\u001b[0m\u001b[1;34m'/folder_name'\u001b[0m\u001b[1;33m)\u001b[0m \u001b[1;31m# full name of the folder with directory name\u001b[0m\u001b[1;33m\u001b[0m\u001b[1;33m\u001b[0m\u001b[0m\n\u001b[0m",
      "\u001b[1;32mC:\\Anaconda\\lib\\shutil.py\u001b[0m in \u001b[0;36mrmtree\u001b[1;34m(path, ignore_errors, onerror)\u001b[0m\n\u001b[0;32m    511\u001b[0m             \u001b[1;31m# can't continue even if onerror hook returns\u001b[0m\u001b[1;33m\u001b[0m\u001b[1;33m\u001b[0m\u001b[1;33m\u001b[0m\u001b[0m\n\u001b[0;32m    512\u001b[0m             \u001b[1;32mreturn\u001b[0m\u001b[1;33m\u001b[0m\u001b[1;33m\u001b[0m\u001b[0m\n\u001b[1;32m--> 513\u001b[1;33m         \u001b[1;32mreturn\u001b[0m \u001b[0m_rmtree_unsafe\u001b[0m\u001b[1;33m(\u001b[0m\u001b[0mpath\u001b[0m\u001b[1;33m,\u001b[0m \u001b[0monerror\u001b[0m\u001b[1;33m)\u001b[0m\u001b[1;33m\u001b[0m\u001b[1;33m\u001b[0m\u001b[0m\n\u001b[0m\u001b[0;32m    514\u001b[0m \u001b[1;33m\u001b[0m\u001b[0m\n\u001b[0;32m    515\u001b[0m \u001b[1;31m# Allow introspection of whether or not the hardening against symlink\u001b[0m\u001b[1;33m\u001b[0m\u001b[1;33m\u001b[0m\u001b[1;33m\u001b[0m\u001b[0m\n",
      "\u001b[1;32mC:\\Anaconda\\lib\\shutil.py\u001b[0m in \u001b[0;36m_rmtree_unsafe\u001b[1;34m(path, onerror)\u001b[0m\n\u001b[0;32m    372\u001b[0m             \u001b[0mentries\u001b[0m \u001b[1;33m=\u001b[0m \u001b[0mlist\u001b[0m\u001b[1;33m(\u001b[0m\u001b[0mscandir_it\u001b[0m\u001b[1;33m)\u001b[0m\u001b[1;33m\u001b[0m\u001b[1;33m\u001b[0m\u001b[0m\n\u001b[0;32m    373\u001b[0m     \u001b[1;32mexcept\u001b[0m \u001b[0mOSError\u001b[0m\u001b[1;33m:\u001b[0m\u001b[1;33m\u001b[0m\u001b[1;33m\u001b[0m\u001b[0m\n\u001b[1;32m--> 374\u001b[1;33m         \u001b[0monerror\u001b[0m\u001b[1;33m(\u001b[0m\u001b[0mos\u001b[0m\u001b[1;33m.\u001b[0m\u001b[0mscandir\u001b[0m\u001b[1;33m,\u001b[0m \u001b[0mpath\u001b[0m\u001b[1;33m,\u001b[0m \u001b[0msys\u001b[0m\u001b[1;33m.\u001b[0m\u001b[0mexc_info\u001b[0m\u001b[1;33m(\u001b[0m\u001b[1;33m)\u001b[0m\u001b[1;33m)\u001b[0m\u001b[1;33m\u001b[0m\u001b[1;33m\u001b[0m\u001b[0m\n\u001b[0m\u001b[0;32m    375\u001b[0m         \u001b[0mentries\u001b[0m \u001b[1;33m=\u001b[0m \u001b[1;33m[\u001b[0m\u001b[1;33m]\u001b[0m\u001b[1;33m\u001b[0m\u001b[1;33m\u001b[0m\u001b[0m\n\u001b[0;32m    376\u001b[0m     \u001b[1;32mfor\u001b[0m \u001b[0mentry\u001b[0m \u001b[1;32min\u001b[0m \u001b[0mentries\u001b[0m\u001b[1;33m:\u001b[0m\u001b[1;33m\u001b[0m\u001b[1;33m\u001b[0m\u001b[0m\n",
      "\u001b[1;32mC:\\Anaconda\\lib\\shutil.py\u001b[0m in \u001b[0;36m_rmtree_unsafe\u001b[1;34m(path, onerror)\u001b[0m\n\u001b[0;32m    369\u001b[0m \u001b[1;32mdef\u001b[0m \u001b[0m_rmtree_unsafe\u001b[0m\u001b[1;33m(\u001b[0m\u001b[0mpath\u001b[0m\u001b[1;33m,\u001b[0m \u001b[0monerror\u001b[0m\u001b[1;33m)\u001b[0m\u001b[1;33m:\u001b[0m\u001b[1;33m\u001b[0m\u001b[1;33m\u001b[0m\u001b[0m\n\u001b[0;32m    370\u001b[0m     \u001b[1;32mtry\u001b[0m\u001b[1;33m:\u001b[0m\u001b[1;33m\u001b[0m\u001b[1;33m\u001b[0m\u001b[0m\n\u001b[1;32m--> 371\u001b[1;33m         \u001b[1;32mwith\u001b[0m \u001b[0mos\u001b[0m\u001b[1;33m.\u001b[0m\u001b[0mscandir\u001b[0m\u001b[1;33m(\u001b[0m\u001b[0mpath\u001b[0m\u001b[1;33m)\u001b[0m \u001b[1;32mas\u001b[0m \u001b[0mscandir_it\u001b[0m\u001b[1;33m:\u001b[0m\u001b[1;33m\u001b[0m\u001b[1;33m\u001b[0m\u001b[0m\n\u001b[0m\u001b[0;32m    372\u001b[0m             \u001b[0mentries\u001b[0m \u001b[1;33m=\u001b[0m \u001b[0mlist\u001b[0m\u001b[1;33m(\u001b[0m\u001b[0mscandir_it\u001b[0m\u001b[1;33m)\u001b[0m\u001b[1;33m\u001b[0m\u001b[1;33m\u001b[0m\u001b[0m\n\u001b[0;32m    373\u001b[0m     \u001b[1;32mexcept\u001b[0m \u001b[0mOSError\u001b[0m\u001b[1;33m:\u001b[0m\u001b[1;33m\u001b[0m\u001b[1;33m\u001b[0m\u001b[0m\n",
      "\u001b[1;31mFileNotFoundError\u001b[0m: [WinError 3] The system cannot find the path specified: '/folder_name'"
     ]
    }
   ],
   "source": [
    "import shutil\n",
    "\n",
    "shutil.rmtree('/folder_name') # full name of the folder with directory name "
   ]
  },
  {
   "cell_type": "markdown",
   "metadata": {},
   "source": [
    "# MAPS"
   ]
  },
  {
   "cell_type": "code",
   "execution_count": null,
   "metadata": {},
   "outputs": [],
   "source": [
    "# !pip install geopy\n",
    "from geopy.geocoders import ArcGIS\n",
    "nom = ArcGIS()\n",
    "# pop= pd.read_csv(\"supermarkets.csv\")\n",
    "# pop\n"
   ]
  },
  {
   "cell_type": "code",
   "execution_count": null,
   "metadata": {},
   "outputs": [],
   "source": [
    "pop[\"New_Address\"]= pop[\"Address\"]+ \" \" + pop[\"City\"] + \" \" + pop[\"State\"]+ \" \" + pop[\"Country\"]\n",
    "pop"
   ]
  },
  {
   "cell_type": "code",
   "execution_count": null,
   "metadata": {},
   "outputs": [],
   "source": [
    "pop[\"Coordinates\"]= pop[\"New_Address\"].apply(nom.geocode)\n",
    "pop.Coordinates[1]"
   ]
  },
  {
   "cell_type": "code",
   "execution_count": null,
   "metadata": {},
   "outputs": [],
   "source": [
    "pop[\"Latitude\"]= pop[\"Coordinates\"].apply(lambda x:x.latitude)\n",
    "pop\n",
    "# above we have created a temporary variable x and for each of the values in x we apply a funxtion \n",
    "# to get latitude\n",
    "pop[\"Longitude\"]= pop[\"Coordinates\"].apply(lambda x:x.longitude)\n",
    "pop"
   ]
  },
  {
   "cell_type": "markdown",
   "metadata": {},
   "source": [
    "### Missing Values "
   ]
  },
  {
   "cell_type": "code",
   "execution_count": null,
   "metadata": {
    "scrolled": true
   },
   "outputs": [],
   "source": [
    "slicing_1.isnull().sum()"
   ]
  },
  {
   "cell_type": "code",
   "execution_count": null,
   "metadata": {
    "scrolled": true
   },
   "outputs": [],
   "source": [
    "slicing_1.isnull().sum(axis=1) \n",
    "#axis = 1 counts missing from each row where as axis = 0 finds missing from columns"
   ]
  },
  {
   "cell_type": "code",
   "execution_count": null,
   "metadata": {},
   "outputs": [],
   "source": [
    "slicing_1.isnull().sum(axis=0)"
   ]
  },
  {
   "cell_type": "code",
   "execution_count": null,
   "metadata": {
    "scrolled": true
   },
   "outputs": [],
   "source": [
    "slicing_1['age_midpoint'].median()\n",
    "slicing_1['age_midpoint'].describe()"
   ]
  },
  {
   "cell_type": "code",
   "execution_count": null,
   "metadata": {},
   "outputs": [],
   "source": [
    "df = pd.DataFrame({\"name\": ['Alfred', 'Batman', 'Catwoman'],\n",
    "                   \"toy\": [np.nan, 'Batmobile', 'Bullwhip'],\n",
    "                   \"born\": [pd.NaT, pd.Timestamp(\"1940-04-25\"),\n",
    "                            pd.NaT]})\n",
    "df"
   ]
  },
  {
   "cell_type": "markdown",
   "metadata": {},
   "source": [
    "### Drop the Missing values"
   ]
  },
  {
   "cell_type": "code",
   "execution_count": null,
   "metadata": {},
   "outputs": [],
   "source": [
    "df.dropna()  # this keeps only non missing values"
   ]
  },
  {
   "cell_type": "markdown",
   "metadata": {},
   "source": [
    "Drop the columns where at least one element is missing."
   ]
  },
  {
   "cell_type": "code",
   "execution_count": null,
   "metadata": {},
   "outputs": [],
   "source": [
    "df.dropna(axis='columns') # only keeps columns which have non missing values "
   ]
  },
  {
   "cell_type": "markdown",
   "metadata": {},
   "source": [
    "Drop the rows where all elements are missing"
   ]
  },
  {
   "cell_type": "code",
   "execution_count": null,
   "metadata": {},
   "outputs": [],
   "source": [
    "df.dropna(how='all') # deltes basis rows if all rows are missing "
   ]
  },
  {
   "cell_type": "markdown",
   "metadata": {},
   "source": [
    "Keep only the rows with at least \"N\" non-NA values"
   ]
  },
  {
   "cell_type": "code",
   "execution_count": null,
   "metadata": {},
   "outputs": [],
   "source": [
    "df.dropna(thresh=2) # here we have given a threshold to show those rows where atleast 2 values are mssing. \n",
    "# if we have hundredes of rows we can change this threshold "
   ]
  },
  {
   "cell_type": "markdown",
   "metadata": {},
   "source": [
    "### Find unique values "
   ]
  },
  {
   "cell_type": "code",
   "execution_count": null,
   "metadata": {},
   "outputs": [],
   "source": [
    "import numpy as np\n",
    "a1= np.unique(slicing_1['country'])\n",
    "a1"
   ]
  },
  {
   "cell_type": "code",
   "execution_count": null,
   "metadata": {
    "scrolled": true
   },
   "outputs": [],
   "source": [
    "# replacing with median and checking if there are any more missing values \n",
    "slicing_1['age_midpoint']=slicing_1['age_midpoint'].fillna((slicing_1['age_midpoint'].median()))\n",
    "slicing_1['age_midpoint'].isnull().sum()"
   ]
  },
  {
   "cell_type": "code",
   "execution_count": null,
   "metadata": {
    "code_folding": [],
    "scrolled": true
   },
   "outputs": [],
   "source": [
    "# Missing values on a categorical Variable\n",
    "slicing_1['gender']= slicing_1['gender'].fillna(slicing_1['gender'].value_counts().index[0])\n",
    "slicing_1['gender'].isnull()\n",
    "\n",
    "\n",
    "# #value_counts() returns the freq distr of each categry in var and then selecting the top category \n",
    "#The value_counts() function is used to get a Series containing counts of unique values\n",
    "\n",
    "slicing_1['self_identification'].value_counts()\n",
    "# to find details on total values in a categpry we can use value count \n",
    "\n",
    "\n",
    "slicing_1['self_identification'].value_counts().count()\n",
    "# gives a total combined number of unique combinations or entries in self_identiication column\n",
    "\n",
    "slicing_1['self_identification'].values\n",
    "\n",
    "slicing_1['self_identification'].value_counts(normalize=True)*100"
   ]
  },
  {
   "cell_type": "markdown",
   "metadata": {},
   "source": [
    "### Difference Between Values, Value_Counts & Count"
   ]
  },
  {
   "cell_type": "code",
   "execution_count": null,
   "metadata": {},
   "outputs": [],
   "source": [
    "\"\"\"\n",
    "1- Values= gives us all possible unique combination of var in a column- example above dta set we have \n",
    "column name self_identification - in this values gives all possible combinations like developer, \n",
    "developer& programmer etc.\n",
    "\n",
    "2- Value_counts = gives us count of unique combinations in the data , i.e. how may times a combination \n",
    "occured\n",
    "\n",
    "3- Count = gives total aggregated number. if we apply count on column name self_identification,it will tell us \n",
    "how many unique entries as a count we have \n",
    "\n",
    "4- Value_counts [normalize=True] = gives us count of unique combinations in the data , i.e. how may times a combination \n",
    "occured in %. \n",
    "\n",
    "\"\"\""
   ]
  },
  {
   "cell_type": "markdown",
   "metadata": {},
   "source": [
    "## Grouping and Pivot"
   ]
  },
  {
   "cell_type": "code",
   "execution_count": null,
   "metadata": {
    "scrolled": true
   },
   "outputs": [],
   "source": [
    "pd.set_option(\"display.precision\", 2)\n",
    "slicing_1['country'].value_counts()\n",
    "\n",
    "# pd.pivot_table(slicing_1,index=[\"gender\"])"
   ]
  },
  {
   "cell_type": "code",
   "execution_count": null,
   "metadata": {
    "scrolled": true
   },
   "outputs": [],
   "source": [
    "pd.pivot_table(slicing_1, index= [\"gender\",\"country\"])"
   ]
  },
  {
   "cell_type": "code",
   "execution_count": 57,
   "metadata": {
    "scrolled": true
   },
   "outputs": [
    {
     "data": {
      "text/html": [
       "<div>\n",
       "<style scoped>\n",
       "    .dataframe tbody tr th:only-of-type {\n",
       "        vertical-align: middle;\n",
       "    }\n",
       "\n",
       "    .dataframe tbody tr th {\n",
       "        vertical-align: top;\n",
       "    }\n",
       "\n",
       "    .dataframe thead th {\n",
       "        text-align: right;\n",
       "    }\n",
       "</style>\n",
       "<table border=\"1\" class=\"dataframe\">\n",
       "  <thead>\n",
       "    <tr style=\"text-align: right;\">\n",
       "      <th></th>\n",
       "      <th>Unnamed: 0</th>\n",
       "      <th>collector</th>\n",
       "      <th>country</th>\n",
       "      <th>un_subregion</th>\n",
       "      <th>so_region</th>\n",
       "      <th>age_range</th>\n",
       "      <th>age_midpoint</th>\n",
       "      <th>gender</th>\n",
       "      <th>self_identification</th>\n",
       "      <th>occupation</th>\n",
       "      <th>...</th>\n",
       "      <th>important_sameend</th>\n",
       "      <th>important_newtech</th>\n",
       "      <th>important_buildnew</th>\n",
       "      <th>important_buildexisting</th>\n",
       "      <th>important_promotion</th>\n",
       "      <th>important_companymission</th>\n",
       "      <th>important_wfh</th>\n",
       "      <th>important_ownoffice</th>\n",
       "      <th>developer_challenges</th>\n",
       "      <th>why_stack_overflow</th>\n",
       "    </tr>\n",
       "  </thead>\n",
       "  <tbody>\n",
       "    <tr>\n",
       "      <th>0</th>\n",
       "      <td>1888</td>\n",
       "      <td>Facebook</td>\n",
       "      <td>Afghanistan</td>\n",
       "      <td>Southern Asia</td>\n",
       "      <td>Central Asia</td>\n",
       "      <td>20-24</td>\n",
       "      <td>22.0</td>\n",
       "      <td>Male</td>\n",
       "      <td>Programmer</td>\n",
       "      <td>NaN</td>\n",
       "      <td>...</td>\n",
       "      <td>NaN</td>\n",
       "      <td>NaN</td>\n",
       "      <td>NaN</td>\n",
       "      <td>NaN</td>\n",
       "      <td>NaN</td>\n",
       "      <td>NaN</td>\n",
       "      <td>NaN</td>\n",
       "      <td>NaN</td>\n",
       "      <td>NaN</td>\n",
       "      <td>NaN</td>\n",
       "    </tr>\n",
       "    <tr>\n",
       "      <th>1</th>\n",
       "      <td>4637</td>\n",
       "      <td>Facebook</td>\n",
       "      <td>Afghanistan</td>\n",
       "      <td>Southern Asia</td>\n",
       "      <td>Central Asia</td>\n",
       "      <td>30-34</td>\n",
       "      <td>32.0</td>\n",
       "      <td>Male</td>\n",
       "      <td>Developer; Engineer; Programmer</td>\n",
       "      <td>Mobile developer - iOS</td>\n",
       "      <td>...</td>\n",
       "      <td>This is somewhat important</td>\n",
       "      <td>This is very important</td>\n",
       "      <td>This is very important</td>\n",
       "      <td>I don't care about this</td>\n",
       "      <td>This is somewhat important</td>\n",
       "      <td>This is somewhat important</td>\n",
       "      <td>I don't care about this</td>\n",
       "      <td>I don't care about this</td>\n",
       "      <td>Unrealistic expectations; Interacting with non...</td>\n",
       "      <td>To get help for my job; Because I can't do my ...</td>\n",
       "    </tr>\n",
       "  </tbody>\n",
       "</table>\n",
       "<p>2 rows × 66 columns</p>\n",
       "</div>"
      ],
      "text/plain": [
       "   Unnamed: 0 collector      country   un_subregion     so_region age_range  \\\n",
       "0        1888  Facebook  Afghanistan  Southern Asia  Central Asia     20-24   \n",
       "1        4637  Facebook  Afghanistan  Southern Asia  Central Asia     30-34   \n",
       "\n",
       "   age_midpoint gender              self_identification  \\\n",
       "0          22.0   Male                       Programmer   \n",
       "1          32.0   Male  Developer; Engineer; Programmer   \n",
       "\n",
       "               occupation  ...           important_sameend  \\\n",
       "0                     NaN  ...                         NaN   \n",
       "1  Mobile developer - iOS  ...  This is somewhat important   \n",
       "\n",
       "        important_newtech      important_buildnew  important_buildexisting  \\\n",
       "0                     NaN                     NaN                      NaN   \n",
       "1  This is very important  This is very important  I don't care about this   \n",
       "\n",
       "          important_promotion    important_companymission  \\\n",
       "0                         NaN                         NaN   \n",
       "1  This is somewhat important  This is somewhat important   \n",
       "\n",
       "             important_wfh      important_ownoffice  \\\n",
       "0                      NaN                      NaN   \n",
       "1  I don't care about this  I don't care about this   \n",
       "\n",
       "                                developer_challenges  \\\n",
       "0                                                NaN   \n",
       "1  Unrealistic expectations; Interacting with non...   \n",
       "\n",
       "                                  why_stack_overflow  \n",
       "0                                                NaN  \n",
       "1  To get help for my job; Because I can't do my ...  \n",
       "\n",
       "[2 rows x 66 columns]"
      ]
     },
     "execution_count": 57,
     "metadata": {},
     "output_type": "execute_result"
    }
   ],
   "source": [
    "pd.pivot_table(data=slicing_1, index='gender', values='country', aggfunc='count').reset_index()\n",
    "slicing_1.head(2)"
   ]
  },
  {
   "cell_type": "code",
   "execution_count": 82,
   "metadata": {},
   "outputs": [
    {
     "data": {
      "text/html": [
       "<div>\n",
       "<style scoped>\n",
       "    .dataframe tbody tr th:only-of-type {\n",
       "        vertical-align: middle;\n",
       "    }\n",
       "\n",
       "    .dataframe tbody tr th {\n",
       "        vertical-align: top;\n",
       "    }\n",
       "\n",
       "    .dataframe thead th {\n",
       "        text-align: right;\n",
       "    }\n",
       "</style>\n",
       "<table border=\"1\" class=\"dataframe\">\n",
       "  <thead>\n",
       "    <tr style=\"text-align: right;\">\n",
       "      <th>gender</th>\n",
       "      <th>Female</th>\n",
       "      <th>Male</th>\n",
       "      <th>Other</th>\n",
       "      <th>Prefer not to disclose</th>\n",
       "    </tr>\n",
       "    <tr>\n",
       "      <th>country</th>\n",
       "      <th></th>\n",
       "      <th></th>\n",
       "      <th></th>\n",
       "      <th></th>\n",
       "    </tr>\n",
       "  </thead>\n",
       "  <tbody>\n",
       "    <tr>\n",
       "      <th>Afghanistan</th>\n",
       "      <td>Aoo Lolita</td>\n",
       "      <td>27.0</td>\n",
       "      <td>Aoo Lolita</td>\n",
       "      <td>43.5</td>\n",
       "    </tr>\n",
       "    <tr>\n",
       "      <th>Albania</th>\n",
       "      <td>27.0</td>\n",
       "      <td>23.25</td>\n",
       "      <td>27.0</td>\n",
       "      <td>27.0</td>\n",
       "    </tr>\n",
       "    <tr>\n",
       "      <th>Algeria</th>\n",
       "      <td>Aoo Lolita</td>\n",
       "      <td>23.86</td>\n",
       "      <td>Aoo Lolita</td>\n",
       "      <td>Aoo Lolita</td>\n",
       "    </tr>\n",
       "    <tr>\n",
       "      <th>Andorra</th>\n",
       "      <td>22.0</td>\n",
       "      <td>44.5</td>\n",
       "      <td>Aoo Lolita</td>\n",
       "      <td>Aoo Lolita</td>\n",
       "    </tr>\n",
       "    <tr>\n",
       "      <th>Antigua &amp; Deps</th>\n",
       "      <td>Aoo Lolita</td>\n",
       "      <td>22.0</td>\n",
       "      <td>Aoo Lolita</td>\n",
       "      <td>Aoo Lolita</td>\n",
       "    </tr>\n",
       "    <tr>\n",
       "      <th>Argentina</th>\n",
       "      <td>29.5</td>\n",
       "      <td>31.12</td>\n",
       "      <td>Aoo Lolita</td>\n",
       "      <td>Aoo Lolita</td>\n",
       "    </tr>\n",
       "    <tr>\n",
       "      <th>Armenia</th>\n",
       "      <td>Aoo Lolita</td>\n",
       "      <td>20.44</td>\n",
       "      <td>Aoo Lolita</td>\n",
       "      <td>Aoo Lolita</td>\n",
       "    </tr>\n",
       "    <tr>\n",
       "      <th>Australia</th>\n",
       "      <td>35.5</td>\n",
       "      <td>33.26</td>\n",
       "      <td>Aoo Lolita</td>\n",
       "      <td>Aoo Lolita</td>\n",
       "    </tr>\n",
       "    <tr>\n",
       "      <th>Austria</th>\n",
       "      <td>29.142857142857142</td>\n",
       "      <td>28.9</td>\n",
       "      <td>27.0</td>\n",
       "      <td>24.0</td>\n",
       "    </tr>\n",
       "    <tr>\n",
       "      <th>Azerbaijan</th>\n",
       "      <td>Aoo Lolita</td>\n",
       "      <td>24.5</td>\n",
       "      <td>Aoo Lolita</td>\n",
       "      <td>Aoo Lolita</td>\n",
       "    </tr>\n",
       "    <tr>\n",
       "      <th>Bahamas</th>\n",
       "      <td>Aoo Lolita</td>\n",
       "      <td>65.0</td>\n",
       "      <td>Aoo Lolita</td>\n",
       "      <td>Aoo Lolita</td>\n",
       "    </tr>\n",
       "    <tr>\n",
       "      <th>Bangladesh</th>\n",
       "      <td>22.0</td>\n",
       "      <td>24.65</td>\n",
       "      <td>Aoo Lolita</td>\n",
       "      <td>22.0</td>\n",
       "    </tr>\n",
       "    <tr>\n",
       "      <th>Belarus</th>\n",
       "      <td>Aoo Lolita</td>\n",
       "      <td>29.5</td>\n",
       "      <td>Aoo Lolita</td>\n",
       "      <td>Aoo Lolita</td>\n",
       "    </tr>\n",
       "    <tr>\n",
       "      <th>Belgium</th>\n",
       "      <td>25.333333333333332</td>\n",
       "      <td>27.03</td>\n",
       "      <td>Aoo Lolita</td>\n",
       "      <td>Aoo Lolita</td>\n",
       "    </tr>\n",
       "    <tr>\n",
       "      <th>Belize</th>\n",
       "      <td>Aoo Lolita</td>\n",
       "      <td>44.5</td>\n",
       "      <td>Aoo Lolita</td>\n",
       "      <td>Aoo Lolita</td>\n",
       "    </tr>\n",
       "    <tr>\n",
       "      <th>Bolivia</th>\n",
       "      <td>Aoo Lolita</td>\n",
       "      <td>24.5</td>\n",
       "      <td>Aoo Lolita</td>\n",
       "      <td>Aoo Lolita</td>\n",
       "    </tr>\n",
       "    <tr>\n",
       "      <th>Bosnia Herzegovina</th>\n",
       "      <td>22.0</td>\n",
       "      <td>24.18</td>\n",
       "      <td>Aoo Lolita</td>\n",
       "      <td>Aoo Lolita</td>\n",
       "    </tr>\n",
       "    <tr>\n",
       "      <th>Botswana</th>\n",
       "      <td>Aoo Lolita</td>\n",
       "      <td>22.0</td>\n",
       "      <td>Aoo Lolita</td>\n",
       "      <td>Aoo Lolita</td>\n",
       "    </tr>\n",
       "    <tr>\n",
       "      <th>Brazil</th>\n",
       "      <td>23.5</td>\n",
       "      <td>28.2</td>\n",
       "      <td>32.0</td>\n",
       "      <td>Aoo Lolita</td>\n",
       "    </tr>\n",
       "    <tr>\n",
       "      <th>Bulgaria</th>\n",
       "      <td>Aoo Lolita</td>\n",
       "      <td>25.77</td>\n",
       "      <td>Aoo Lolita</td>\n",
       "      <td>Aoo Lolita</td>\n",
       "    </tr>\n",
       "    <tr>\n",
       "      <th>Burkina</th>\n",
       "      <td>Aoo Lolita</td>\n",
       "      <td>32.0</td>\n",
       "      <td>Aoo Lolita</td>\n",
       "      <td>Aoo Lolita</td>\n",
       "    </tr>\n",
       "    <tr>\n",
       "      <th>Cambodia</th>\n",
       "      <td>27.0</td>\n",
       "      <td>27.0</td>\n",
       "      <td>Aoo Lolita</td>\n",
       "      <td>Aoo Lolita</td>\n",
       "    </tr>\n",
       "    <tr>\n",
       "      <th>Canada</th>\n",
       "      <td>19.0</td>\n",
       "      <td>29.23</td>\n",
       "      <td>27.0</td>\n",
       "      <td>Aoo Lolita</td>\n",
       "    </tr>\n",
       "    <tr>\n",
       "      <th>Chile</th>\n",
       "      <td>Aoo Lolita</td>\n",
       "      <td>28.11</td>\n",
       "      <td>Aoo Lolita</td>\n",
       "      <td>Aoo Lolita</td>\n",
       "    </tr>\n",
       "    <tr>\n",
       "      <th>China</th>\n",
       "      <td>Aoo Lolita</td>\n",
       "      <td>28.31</td>\n",
       "      <td>Aoo Lolita</td>\n",
       "      <td>Aoo Lolita</td>\n",
       "    </tr>\n",
       "    <tr>\n",
       "      <th>Colombia</th>\n",
       "      <td>Aoo Lolita</td>\n",
       "      <td>29.25</td>\n",
       "      <td>Aoo Lolita</td>\n",
       "      <td>Aoo Lolita</td>\n",
       "    </tr>\n",
       "    <tr>\n",
       "      <th>Costa Rica</th>\n",
       "      <td>32.0</td>\n",
       "      <td>27.56</td>\n",
       "      <td>Aoo Lolita</td>\n",
       "      <td>Aoo Lolita</td>\n",
       "    </tr>\n",
       "    <tr>\n",
       "      <th>Croatia</th>\n",
       "      <td>27.0</td>\n",
       "      <td>25.58</td>\n",
       "      <td>Aoo Lolita</td>\n",
       "      <td>Aoo Lolita</td>\n",
       "    </tr>\n",
       "    <tr>\n",
       "      <th>Cyprus</th>\n",
       "      <td>27.0</td>\n",
       "      <td>29.0</td>\n",
       "      <td>Aoo Lolita</td>\n",
       "      <td>Aoo Lolita</td>\n",
       "    </tr>\n",
       "    <tr>\n",
       "      <th>Czech Republic</th>\n",
       "      <td>27.0</td>\n",
       "      <td>23.99</td>\n",
       "      <td>Aoo Lolita</td>\n",
       "      <td>Aoo Lolita</td>\n",
       "    </tr>\n",
       "    <tr>\n",
       "      <th>Denmark</th>\n",
       "      <td>24.666666666666668</td>\n",
       "      <td>30.89</td>\n",
       "      <td>Aoo Lolita</td>\n",
       "      <td>16.0</td>\n",
       "    </tr>\n",
       "    <tr>\n",
       "      <th>Dominican Republic</th>\n",
       "      <td>Aoo Lolita</td>\n",
       "      <td>25.75</td>\n",
       "      <td>Aoo Lolita</td>\n",
       "      <td>Aoo Lolita</td>\n",
       "    </tr>\n",
       "    <tr>\n",
       "      <th>Ecuador</th>\n",
       "      <td>Aoo Lolita</td>\n",
       "      <td>27.0</td>\n",
       "      <td>Aoo Lolita</td>\n",
       "      <td>Aoo Lolita</td>\n",
       "    </tr>\n",
       "    <tr>\n",
       "      <th>Egypt</th>\n",
       "      <td>22.0</td>\n",
       "      <td>25.59</td>\n",
       "      <td>16.0</td>\n",
       "      <td>32.0</td>\n",
       "    </tr>\n",
       "    <tr>\n",
       "      <th>El Salvador</th>\n",
       "      <td>Aoo Lolita</td>\n",
       "      <td>27.0</td>\n",
       "      <td>Aoo Lolita</td>\n",
       "      <td>Aoo Lolita</td>\n",
       "    </tr>\n",
       "    <tr>\n",
       "      <th>Estonia</th>\n",
       "      <td>Aoo Lolita</td>\n",
       "      <td>26.75</td>\n",
       "      <td>Aoo Lolita</td>\n",
       "      <td>Aoo Lolita</td>\n",
       "    </tr>\n",
       "    <tr>\n",
       "      <th>Finland</th>\n",
       "      <td>29.142857142857142</td>\n",
       "      <td>31.08</td>\n",
       "      <td>Aoo Lolita</td>\n",
       "      <td>22.0</td>\n",
       "    </tr>\n",
       "    <tr>\n",
       "      <th>France</th>\n",
       "      <td>27.392857142857142</td>\n",
       "      <td>27.5</td>\n",
       "      <td>Aoo Lolita</td>\n",
       "      <td>29.5</td>\n",
       "    </tr>\n",
       "    <tr>\n",
       "      <th>Georgia</th>\n",
       "      <td>27.0</td>\n",
       "      <td>22.4</td>\n",
       "      <td>Aoo Lolita</td>\n",
       "      <td>Aoo Lolita</td>\n",
       "    </tr>\n",
       "    <tr>\n",
       "      <th>Germany</th>\n",
       "      <td>31.4</td>\n",
       "      <td>29.24</td>\n",
       "      <td>32.0</td>\n",
       "      <td>21.666666666666668</td>\n",
       "    </tr>\n",
       "  </tbody>\n",
       "</table>\n",
       "</div>"
      ],
      "text/plain": [
       "gender                         Female  Male       Other Prefer not to disclose\n",
       "country                                                                       \n",
       "Afghanistan                Aoo Lolita  27.0  Aoo Lolita                   43.5\n",
       "Albania                          27.0 23.25        27.0                   27.0\n",
       "Algeria                    Aoo Lolita 23.86  Aoo Lolita             Aoo Lolita\n",
       "Andorra                          22.0  44.5  Aoo Lolita             Aoo Lolita\n",
       "Antigua & Deps             Aoo Lolita  22.0  Aoo Lolita             Aoo Lolita\n",
       "Argentina                        29.5 31.12  Aoo Lolita             Aoo Lolita\n",
       "Armenia                    Aoo Lolita 20.44  Aoo Lolita             Aoo Lolita\n",
       "Australia                        35.5 33.26  Aoo Lolita             Aoo Lolita\n",
       "Austria            29.142857142857142  28.9        27.0                   24.0\n",
       "Azerbaijan                 Aoo Lolita  24.5  Aoo Lolita             Aoo Lolita\n",
       "Bahamas                    Aoo Lolita  65.0  Aoo Lolita             Aoo Lolita\n",
       "Bangladesh                       22.0 24.65  Aoo Lolita                   22.0\n",
       "Belarus                    Aoo Lolita  29.5  Aoo Lolita             Aoo Lolita\n",
       "Belgium            25.333333333333332 27.03  Aoo Lolita             Aoo Lolita\n",
       "Belize                     Aoo Lolita  44.5  Aoo Lolita             Aoo Lolita\n",
       "Bolivia                    Aoo Lolita  24.5  Aoo Lolita             Aoo Lolita\n",
       "Bosnia Herzegovina               22.0 24.18  Aoo Lolita             Aoo Lolita\n",
       "Botswana                   Aoo Lolita  22.0  Aoo Lolita             Aoo Lolita\n",
       "Brazil                           23.5  28.2        32.0             Aoo Lolita\n",
       "Bulgaria                   Aoo Lolita 25.77  Aoo Lolita             Aoo Lolita\n",
       "Burkina                    Aoo Lolita  32.0  Aoo Lolita             Aoo Lolita\n",
       "Cambodia                         27.0  27.0  Aoo Lolita             Aoo Lolita\n",
       "Canada                           19.0 29.23        27.0             Aoo Lolita\n",
       "Chile                      Aoo Lolita 28.11  Aoo Lolita             Aoo Lolita\n",
       "China                      Aoo Lolita 28.31  Aoo Lolita             Aoo Lolita\n",
       "Colombia                   Aoo Lolita 29.25  Aoo Lolita             Aoo Lolita\n",
       "Costa Rica                       32.0 27.56  Aoo Lolita             Aoo Lolita\n",
       "Croatia                          27.0 25.58  Aoo Lolita             Aoo Lolita\n",
       "Cyprus                           27.0  29.0  Aoo Lolita             Aoo Lolita\n",
       "Czech Republic                   27.0 23.99  Aoo Lolita             Aoo Lolita\n",
       "Denmark            24.666666666666668 30.89  Aoo Lolita                   16.0\n",
       "Dominican Republic         Aoo Lolita 25.75  Aoo Lolita             Aoo Lolita\n",
       "Ecuador                    Aoo Lolita  27.0  Aoo Lolita             Aoo Lolita\n",
       "Egypt                            22.0 25.59        16.0                   32.0\n",
       "El Salvador                Aoo Lolita  27.0  Aoo Lolita             Aoo Lolita\n",
       "Estonia                    Aoo Lolita 26.75  Aoo Lolita             Aoo Lolita\n",
       "Finland            29.142857142857142 31.08  Aoo Lolita                   22.0\n",
       "France             27.392857142857142  27.5  Aoo Lolita                   29.5\n",
       "Georgia                          27.0  22.4  Aoo Lolita             Aoo Lolita\n",
       "Germany                          31.4 29.24        32.0     21.666666666666668"
      ]
     },
     "execution_count": 82,
     "metadata": {},
     "output_type": "execute_result"
    }
   ],
   "source": [
    "pd.set_option(\"display.precision\", 2)\n",
    "a = slicing_1.pivot_table(values='age_midpoint',\n",
    "                          columns='gender',\n",
    "                          index='country',\n",
    "                          fill_value='Aoo Lolita')\n",
    "a.round(decimals=2)"
   ]
  },
  {
   "cell_type": "code",
   "execution_count": null,
   "metadata": {
    "scrolled": true
   },
   "outputs": [],
   "source": [
    "#Need to check this \n",
    "slicing_1.groupby(\"country\")[\"women_on_team\"].count()\n",
    "# here we need tot first defvine which var we need to group on here it is country and then specify the col on which \n",
    "# we need to perform aggregation \n",
    "\n",
    "slicing_1[\"women_on_team\"].value_counts(sort=True,ascending= False)"
   ]
  },
  {
   "cell_type": "code",
   "execution_count": null,
   "metadata": {
    "scrolled": true
   },
   "outputs": [],
   "source": [
    "a=slicing_1.groupby([\"country\", \"gender\"], as_index=False)[\"women_on_team\"].count()\n",
    "a.head(12)\n",
    "\n",
    "#if we dont apply as_index = false this will create a series object and not a data frame "
   ]
  },
  {
   "cell_type": "code",
   "execution_count": null,
   "metadata": {
    "scrolled": true
   },
   "outputs": [],
   "source": [
    "a.groupby(\"country\")\n",
    "slicing_1[slicing_1.country==\"Argentina\"]"
   ]
  },
  {
   "cell_type": "markdown",
   "metadata": {},
   "source": [
    "## Useful Python Tips "
   ]
  },
  {
   "cell_type": "markdown",
   "metadata": {},
   "source": [
    "  * index min and max - start and end of data range: if we have __date range__ we can know start and end of date column\n",
    "  * pd.set_option(\"display.precision\", 2)- setting decimal points in obs \n",
    "  * dir(__builtins__)  - to know all builtin functions in python\n",
    "  * How call functions in python \n",
    "      - List is called by [] and the values are seperated by a comma, these are mutable meaning be changed, appended or \n",
    "      deleted\n",
    "      - functions like sum, max, min etc arr called by using ()\n",
    "      - Dictionary is called by using {}\n",
    "      - Tuple are cLLED by using ()- these are immutable meaning these cannot be changed, appended or \n",
    "      deleted. __Tuples are however a bit faster than lists__\n",
    "      - list.remove can only remove one observation at a time "
   ]
  },
  {
   "cell_type": "code",
   "execution_count": null,
   "metadata": {},
   "outputs": [],
   "source": [
    "#slicing_1.index.max()\n",
    "#slicing_1.index.min()\n",
    "\n",
    "#index min and max tells about the starting location and the end. \n",
    "#if there are date stamp we can find from what date min and max we have observations from"
   ]
  },
  {
   "cell_type": "code",
   "execution_count": null,
   "metadata": {},
   "outputs": [],
   "source": [
    "dir(__builtins__)\n",
    "# Counting entries of specific observation\n",
    "student_grades = [9.1, 8.8, 10.0, 7.7, 6.8, 8.0, 10.0, 8.1, 10.0, 9.9]\n",
    "print(student_grades.count(10))\n",
    "test = [\"A\",\"B\",\"A\",\"C\",\"A\",\"A\"]\n",
    "print(test.count(\"A\"))"
   ]
  },
  {
   "cell_type": "markdown",
   "metadata": {
    "slideshow": {
     "slide_type": "slide"
    }
   },
   "source": [
    "# Dictionary"
   ]
  },
  {
   "cell_type": "code",
   "execution_count": null,
   "metadata": {},
   "outputs": [],
   "source": [
    "student_grades= {\"Marry\":90, \"Prince\":91,\"Athen\":89}\n",
    "student_grades.keys()\n",
    "\n",
    "\"\"\"\n",
    "Dict have keys i.e. unique identifiers and values which contain values assigned to these keys \n",
    "\"\"\"\n",
    "population = {'Shanghai': 17.8, 'Istanbul': 13.3, 'Karachi':13.0, 'Mumbai':12.5}\n",
    "print(population)\n",
    "\n",
    "day_temperatures = {'morning':('12.2','13.2','10.8'),'noon':('23.1','22.8','26.5'),\n",
    "                    'evening':('10.4','7.5','1.8')}\n",
    "day_temperatures\n",
    "#This is an example of dictionary and tuple \n",
    "\n",
    "# #Complex and more useful example of dictionary\n",
    "book_info = { 'title': 'Learning Python',\n",
    "             'pages': 342,\n",
    "             'pub_date': 'November 2016',\n",
    "             'chapters': 14,\n",
    "            }\n",
    "print(\"The book is called %(title)s, and it was released on %(pub_date)s.\" \n",
    "      \"It is %(pages)d pages long with %(chapters)d chapters.\" % book_info)"
   ]
  },
  {
   "cell_type": "markdown",
   "metadata": {
    "scrolled": true
   },
   "source": [
    "# Functions"
   ]
  },
  {
   "cell_type": "code",
   "execution_count": null,
   "metadata": {
    "scrolled": true
   },
   "outputs": [],
   "source": [
    "def mean(mylist):  \n",
    "    the_mean = sum(mylist)/ len(mylist) \n",
    "    return the_mean\n",
    "# within paranthesis we can define a paramter, input to function    \n",
    "# to call the function we call the function as below:\n",
    "print(mean([1,4,6,6,6,6,6]))\n",
    "# functins start with def and followed by the name of the function. here it is mean  \n",
    "# above we wrote a function to cal mean, gave function a name mean, defined parameter as a list \n",
    "# of observations, tell python how to calc mean and store it in a var the_mean\n",
    "\n",
    "def test1(mylist):\n",
    "    new1= mylist * mylist \n",
    "    return new1\n",
    "\n",
    "test1(3)\n",
    "# defining a function to calc square root "
   ]
  },
  {
   "cell_type": "code",
   "execution_count": null,
   "metadata": {},
   "outputs": [],
   "source": [
    "def mean(datast):\n",
    "    if type(datast)== dict:\n",
    "        the_mean = sum(datast.values())/ len(datast)\n",
    "    else:\n",
    "        the_mean= sum(datast)/len(datast)\n",
    "    return the_mean\n",
    "\n",
    "grades = {\"Marry\":200,\"Apy\":100,\"Cindy\":175}\n",
    "print(mean(grades))\n",
    "# Creating a function to mean if its a list or dict          "
   ]
  },
  {
   "cell_type": "code",
   "execution_count": null,
   "metadata": {},
   "outputs": [],
   "source": [
    "# if 3>1 :\n",
    "#     print('a')\n",
    "    \n",
    "# def foo (pass):\n",
    "#     if (pass =='string') & len(pass<=8):\n",
    "#         return True\n",
    "#     else: \n",
    "#         return \"False\"\n",
    "        \n",
    "# __InterView question:__\n",
    "# def weather (temperature):\n",
    "#     if temperature >7:\n",
    "#         return \"Warm\"\n",
    "#     else: \n",
    "#         return \"Cold\"\n",
    "\n",
    "# input(\"Enter temperature:\")\n",
    "# # ///user_input = input(\"Enter Temperature\")\n",
    "# print(weather(user_input))\n",
    "# the problem with the above program is that the input is a string whereas the number we are adding as temperature \n",
    "#is an integer\n",
    "def weather (temperature):\n",
    "    if temperature > 7:\n",
    "        return \"Warm\"\n",
    "    else: \n",
    "        return \"Cold\"\n",
    "\n",
    "# input(\"Enter temperature:\")\n",
    "user_input = float(input(\"Enter Temperature\"))\n",
    "print(weather(user_input))"
   ]
  },
  {
   "cell_type": "markdown",
   "metadata": {},
   "source": [
    "### Srring Formatting Expression"
   ]
  },
  {
   "cell_type": "code",
   "execution_count": null,
   "metadata": {},
   "outputs": [],
   "source": [
    "user_t = input(\"Enter your name:\")\n",
    "message = f\"Hello! {user_t}\"\n",
    "print(message)"
   ]
  },
  {
   "cell_type": "code",
   "execution_count": null,
   "metadata": {},
   "outputs": [],
   "source": [
    "name = input(\"Enter Your Name:\")\n",
    "surname = input (\"Enter Your Surname:\")\n",
    "message = f\"Hello! {name} {surname}\"\n",
    "print(message)\n",
    "\n",
    "# similarly we add multiple variables in the message and input statement \n"
   ]
  },
  {
   "cell_type": "code",
   "execution_count": null,
   "metadata": {},
   "outputs": [],
   "source": [
    "name = input(\"Enter Your Name:\")\n",
    "surname = input (\"Enter Your Surname:\")\n",
    "when = (\"today\")\n",
    "miss = (\"Are you missing someone\")\n",
    "message = f\"Hello! {name} {surname} what'up {when} {miss}\"\n",
    "print(message)\n",
    "\n",
    "# similarly we add multiple variables in the message and input statement"
   ]
  },
  {
   "cell_type": "code",
   "execution_count": null,
   "metadata": {},
   "outputs": [],
   "source": [
    "def foo(name):\n",
    "    return \"Hi %s\" % name"
   ]
  },
  {
   "cell_type": "code",
   "execution_count": null,
   "metadata": {},
   "outputs": [],
   "source": [
    "print(name)"
   ]
  },
  {
   "cell_type": "markdown",
   "metadata": {},
   "source": [
    "# LOOPS"
   ]
  },
  {
   "cell_type": "code",
   "execution_count": null,
   "metadata": {},
   "outputs": [],
   "source": [
    "monday_temp = [9.2,9.8,10.2]\n",
    "print(round(monday_temp[2]))\n",
    "\n",
    "# if we want to slect all obs we can do it using [:]  # Interview question \n",
    "for data in monday_temp:\n",
    "    print(round(data))"
   ]
  },
  {
   "cell_type": "code",
   "execution_count": null,
   "metadata": {},
   "outputs": [],
   "source": [
    "colors = [11, 34, 98, 43, 45, 54, 54]\n",
    "for temp in colors:\n",
    "    if temp > 50:\n",
    "        print(temp)\n",
    "#printing number greater than 50 "
   ]
  },
  {
   "cell_type": "code",
   "execution_count": null,
   "metadata": {},
   "outputs": [],
   "source": [
    "colors = [11, 34.1, 98.2, 43, 45.1, 54, 54]\n",
    "\n",
    "for test in colors:\n",
    "    if type(test)==int:\n",
    "        print(test)\n",
    "        \n",
    "#Printing only intergers"
   ]
  },
  {
   "cell_type": "code",
   "execution_count": null,
   "metadata": {},
   "outputs": [],
   "source": [
    "student_grade= {'Marry':9.1, 'Larry':9.4,'Harry':9.5}\n",
    "for test in student_grade.items():\n",
    "    print(test)\n",
    "\n",
    "# # For loop with dictionary \n",
    "\n",
    "phone_numbers = {\"John Smith\": \"+37682929928\", \"Marry Simpons\": \"+423998200919\"}\n",
    " \n",
    "for pair in phone_numbers.items():\n",
    "    print(\"{} has as phone number {}\".format(pair[0], pair[1]))"
   ]
  },
  {
   "cell_type": "code",
   "execution_count": null,
   "metadata": {},
   "outputs": [],
   "source": [
    "phone_numbers = {\"John Smith\": \"+37682929928\", \"Marry Simpons\": \"+423998200919\"}\n",
    "\n",
    "for key, value in phone_numbers.items():\n",
    "    print(\"%s: %s\" % (key, value))"
   ]
  },
  {
   "cell_type": "code",
   "execution_count": null,
   "metadata": {},
   "outputs": [],
   "source": [
    "phone_numbers = {\"John Smith\": \"+37682929928\", \"Marry Simpons\": \"+423998200919\"}\n",
    "\n",
    "for plan in phone_numbers.values():\n",
    "    print (plan.replace(\"+\",\"00\"))  # using replace function to replace + with 00"
   ]
  },
  {
   "cell_type": "code",
   "execution_count": null,
   "metadata": {},
   "outputs": [],
   "source": [
    "def sentence_maker (phrase):\n",
    "    interrogatives = (\"how\",\"when\",\"why\",\"where\", \"would\")\n",
    "    capitalise = phrase.capitalize()\n",
    "    if phrase.startswith(interrogatives):\n",
    "        return \"{}?\".format(capitalise)\n",
    "    else: \n",
    "        return \"{}.\".format(capitalise)\n",
    "\n",
    "# print(sentence_maker(\"how are you\"))\n",
    "print(sentence_maker(\"Is Ashish you old enough to watch porn\"))"
   ]
  },
  {
   "cell_type": "code",
   "execution_count": null,
   "metadata": {},
   "outputs": [],
   "source": [
    "\"how are you\".capitalize()"
   ]
  },
  {
   "cell_type": "code",
   "execution_count": null,
   "metadata": {},
   "outputs": [],
   "source": [
    "temps = [11,22,33,123,-25]\n",
    "\n",
    "new_temp = [val / 10 for val in temps if val!= -9999]\n",
    "new_temp"
   ]
  },
  {
   "cell_type": "code",
   "execution_count": null,
   "metadata": {},
   "outputs": [],
   "source": [
    "def foo(lst):\n",
    "    return sum([float(i) for i in lst])\n",
    "\n",
    "lst = [1,1,2,6,6.7,7.8]\n",
    "print(foo([1,1,2,6,6.7,7.8]))"
   ]
  },
  {
   "cell_type": "code",
   "execution_count": null,
   "metadata": {},
   "outputs": [],
   "source": [
    "# define a function to capitalise all in the list in alphbatical order \n",
    "def foo(*args):\n",
    "    args = [x.upper() for x in args]\n",
    "    return sorted(args)\n",
    "\n",
    "print(foo(\"delhi\",\"mumbai\",\"calcutta\"))"
   ]
  },
  {
   "cell_type": "markdown",
   "metadata": {},
   "source": [
    "#  Reading a Text File "
   ]
  },
  {
   "cell_type": "code",
   "execution_count": null,
   "metadata": {},
   "outputs": [],
   "source": [
    "file = open(\"flights.csv.txt\")\n",
    "content = file.read()\n",
    "print(content)\n"
   ]
  },
  {
   "cell_type": "code",
   "execution_count": null,
   "metadata": {},
   "outputs": [],
   "source": [
    "file = open(\"flights.csv.txt\")\n",
    "content = file.read()\n",
    "file.close()\n",
    "print(content[1:5:])"
   ]
  },
  {
   "cell_type": "code",
   "execution_count": null,
   "metadata": {},
   "outputs": [],
   "source": [
    "#Creating a new text file and saving it in the directory \n",
    "\n",
    "with open(\"vegetables.txt\",\"w\") as myfiles:\n",
    "    myfiles.write(\"Tomato\\nBurger\")\n",
    "\n",
    "# #addin more contents:\n",
    "# with open (\"vegetables.txt\",\"w\") as myfiles: # w is for write \n",
    "#     myfiles.write(\"Tomato\\nCucumber\\nOnion Garlic\") # the \\n is to create space and add a new element to the next line \n",
    "\"\"\"\n",
    "r= readng file\n",
    "w= write file \n",
    "x= create a new file and open it for writing, cannot append or add \n",
    "a= open for writing, appending to the end of the file if it exists \n",
    "b= binary mode\n",
    "t = text mode[default]\n",
    "+ = open a disk file for updating (reading and writing)\n",
    "\n",
    "\"\"\"    "
   ]
  },
  {
   "cell_type": "code",
   "execution_count": null,
   "metadata": {},
   "outputs": [],
   "source": [
    "# add new data to existing file and then print frm line 0\n",
    "with open (\"vegetables.txt\", \"a+\") as myfiles:\n",
    "    myfiles.write(\"\\nTeabags\")   # using a+ to add a new data and print as well , write is to write data \n",
    "    content = myfiles.read()\n",
    "    \n",
    "# now if we try to print this file it will not work hence we will have to add another line i.e. seek before content \n",
    "with open (\"vegetables.txt\", \"a+\") as myfiles:\n",
    "    myfiles.write(\"\\nTeabags\")   # using a+ to add a new data , write is to write data \n",
    "    myfiles.seek(0)  # this reads from the first element of the file \n",
    "    content = myfiles.read()\n",
    "print(content)"
   ]
  },
  {
   "cell_type": "code",
   "execution_count": null,
   "metadata": {},
   "outputs": [],
   "source": []
  },
  {
   "cell_type": "markdown",
   "metadata": {},
   "source": [
    "# Built-In Modules"
   ]
  },
  {
   "cell_type": "code",
   "execution_count": null,
   "metadata": {},
   "outputs": [],
   "source": [
    "import sys\n",
    "sys.builtin_module_names\n",
    "\n",
    "# to use any of the built in module name we use it by import it \n",
    "import time\n",
    "dir(time)# from here we can see what is in that module \n",
    "# # to use one of the builtin from time we can use help to see how it works \n",
    "help(time.sleep)\n",
    "\n",
    "# know python version -- \n",
    "print (sys.version)\n"
   ]
  },
  {
   "cell_type": "markdown",
   "metadata": {},
   "source": [
    "## Upgrade a package "
   ]
  },
  {
   "cell_type": "code",
   "execution_count": null,
   "metadata": {},
   "outputs": [],
   "source": [
    "#pip3 install --upgrade sweetviz from anaconda prompt"
   ]
  },
  {
   "cell_type": "markdown",
   "metadata": {},
   "source": [
    "## Issues With Package Install"
   ]
  },
  {
   "cell_type": "markdown",
   "metadata": {},
   "source": [
    "<font color = 'red'> __There are sometimes issues with pip to install packages and we see error like _<font color = 'blue'>Permission denied error by installing [package name]</font>_ then we can install the package using a command like below:__   \n",
    " * !pip install ['Name of the package'] --user    "
   ]
  },
  {
   "cell_type": "markdown",
   "metadata": {},
   "source": [
    "## Help On a Package"
   ]
  },
  {
   "cell_type": "code",
   "execution_count": null,
   "metadata": {},
   "outputs": [],
   "source": [
    "# help(\"sweetviz\") name of the package after help"
   ]
  },
  {
   "cell_type": "markdown",
   "metadata": {},
   "source": [
    "## Package Details "
   ]
  },
  {
   "cell_type": "code",
   "execution_count": null,
   "metadata": {},
   "outputs": [],
   "source": [
    "pip show sweetviz"
   ]
  },
  {
   "cell_type": "markdown",
   "metadata": {},
   "source": [
    "## Know Where the Package is Stored"
   ]
  },
  {
   "cell_type": "code",
   "execution_count": null,
   "metadata": {},
   "outputs": [],
   "source": [
    "import site\n",
    "site.getsitepackages()"
   ]
  },
  {
   "cell_type": "code",
   "execution_count": null,
   "metadata": {},
   "outputs": [],
   "source": [
    "# write a program to print contents of a file every ten seconds using built ins:\n",
    "import time \n",
    "while True:\n",
    "    with open(\"vegetables1.txt\") as file:\n",
    "        print(file.read())\n",
    "        time.sleep(20)  # reading a program every 20 seconds [ time takes the argument in seconds]\n",
    "\n",
    "# DONT RUN THE ABOVE PROGRAM IT WIL RUN ENDLESSLY \n",
    "        "
   ]
  },
  {
   "cell_type": "code",
   "execution_count": null,
   "metadata": {},
   "outputs": [],
   "source": [
    "# Automating some task like printing new dataset every day with builtin [ say every 24 hours we need a new file with \n",
    "#mean of that file ]\n",
    "\n",
    "import time \n",
    "import pandas as pd\n",
    "import os \n",
    "\n",
    "while True: \n",
    "#     if os.path.exists(\"C:\\Users\\51613014\\Flights_Smaller.txt\") # here we are checking if the file exists or not \n",
    "    data = pd.read_excel(\"BBCS_989_CASES.xlsx\")\n",
    "    print(data['forecast_amnt'].mean())\n",
    "#     else: \n",
    "#         print(\"Retry\")\n",
    "    time.sleep(20)\n"
   ]
  },
  {
   "cell_type": "markdown",
   "metadata": {},
   "source": [
    "# JSON"
   ]
  },
  {
   "cell_type": "code",
   "execution_count": null,
   "metadata": {},
   "outputs": [],
   "source": [
    "import json "
   ]
  },
  {
   "cell_type": "code",
   "execution_count": null,
   "metadata": {},
   "outputs": [],
   "source": [
    "data = json.load(open(\"data.json\"))\n",
    "type(data)\n",
    "# data[\"rain\"]\n",
    "data"
   ]
  },
  {
   "cell_type": "code",
   "execution_count": null,
   "metadata": {},
   "outputs": [],
   "source": [
    "# Loading with pandas\n",
    "pd.read_json(\"supermarkets.json\")"
   ]
  },
  {
   "cell_type": "code",
   "execution_count": null,
   "metadata": {},
   "outputs": [],
   "source": [
    "def meaning (w):\n",
    "    return data [w]\n",
    "\n",
    "word = input(\"Enter Word: \")\n",
    "print (meaning(word))  # this word which we are entering has to be part of the dictionary we have json file \n",
    "#else there would be error message "
   ]
  },
  {
   "cell_type": "code",
   "execution_count": null,
   "metadata": {
    "code_folding": []
   },
   "outputs": [],
   "source": [
    "# however to chmage this behaviour we can use an if statement \n",
    "def hello(w):\n",
    "    w= w.lower()\n",
    "    if w in data:\n",
    "        return data[w]\n",
    "    else:\n",
    "        return \"Word Does Not Exist, Please check again\"\n",
    "    \n",
    "word = input(\"Enter Word: \")\n",
    "print(hello(word))"
   ]
  },
  {
   "cell_type": "code",
   "execution_count": null,
   "metadata": {
    "scrolled": false
   },
   "outputs": [],
   "source": [
    "# Creating a list when users type a word there could be a possibility that there would be spelling mistakes etc. hence \n",
    "# we create a list where the words in the list would be closer to actual word\n",
    "\n",
    "import difflib  # to match sequence \n",
    "from difflib import SequenceMatcher\n",
    "SequenceMatcher(None, \"rainn\",\"rain\").ratio() # here none refers to , followed by misspelled word and actual word \n",
    "# the ratio tells how close the mismatched word is to the actual word \n",
    "\n",
    "from difflib import get_close_matches\n",
    "# help(get_close_matches)\n",
    "get_close_matches(\"rain\",[\"rain\",\"raining\",\"testing\",\"raw\"]) # keeping the cutoff as default \n",
    "\n",
    "\n",
    "# #Now we cn look at the matching word in our data dictionary \n",
    "# data.keys()\n",
    "\n",
    "get_close_matches(\"test\",data.keys(),n=4)  #n = number of close matches we can request \n"
   ]
  },
  {
   "cell_type": "code",
   "execution_count": null,
   "metadata": {},
   "outputs": [],
   "source": [
    "# Program to let user find an exact match, a close match or no match \n",
    "import json \n",
    "import pandas \n",
    "import difflib\n",
    "from difflib import SequenceMatcher\n",
    "from difflib import get_close_matches\n",
    "data = json.load(open(\"data.json\"))\n",
    "\n",
    "def scenario (w):\n",
    "    w= w.lower()\n",
    "    if w in data:\n",
    "        return data[w]\n",
    "    elif len(get_close_matches(w, data.keys()))>0:  # here we are asking the value of \"w\" should be greater than 0 \n",
    "        #in data.keys then we should get its close and macthes , below return 0 means the closest match\n",
    "        return input(\"Did you mean %s instead?\"  % get_close_matches(w,data.keys())[0]) \n",
    "    else:\n",
    "        return \"The word does not exist in the data, please check the data\"\n",
    "\n",
    "word = input(\"Enter the Word: \")\n",
    "print(scenario(word))"
   ]
  },
  {
   "cell_type": "markdown",
   "metadata": {},
   "source": [
    " Program to let user find an exact match, a close match or no match . __In case of No Match the user will be able to input that close match value__"
   ]
  },
  {
   "cell_type": "code",
   "execution_count": null,
   "metadata": {},
   "outputs": [],
   "source": [
    "def scenario1(w):\n",
    "    w= w.lower()\n",
    "    if w in data:\n",
    "        return dat [w]\n",
    "    elif len(get_close_matches(w, data.keys()))>0:\n",
    "        yn= input (\"Did you mean %s instead? Enter Y if yes or N if no:\" % get_close_matches(w, data.keys())[0])\n",
    "        if yn == \"Y\":\n",
    "            return data [ get_close_matches(w, data.keys())[0]]\n",
    "        else:\n",
    "            return \"The word does not exist. Please check again\"\n",
    "        \n",
    "\n",
    "word = input(\"Please enter the word: \")\n",
    "print(scenario1(word))\n",
    "            "
   ]
  },
  {
   "cell_type": "markdown",
   "metadata": {},
   "source": [
    "# SET \n",
    "A set is like a list but it can only hold unique values.\n",
    "\n",
    "pet1= set(['hello','world','friends','how'])\n",
    "pet2 = set(['how','are','you','friends','are'])\n",
    "pet2\n",
    "\n",
    "another important use of SET is that as it only hold unique values it can remove dups from a list \n",
    "numbers = [1,2,3,4,5,6,6,7,7]\n",
    "Sets support the in operator the same as lists do. You can add elements to sets using the add method, and remove elements using the pop method, similar to lists hence making it as MUTABLE OPTION. Remember set are unordered so while we pop a random observation wouild be deleted"
   ]
  },
  {
   "cell_type": "markdown",
   "metadata": {},
   "source": [
    "# SQL"
   ]
  },
  {
   "cell_type": "code",
   "execution_count": null,
   "metadata": {},
   "outputs": [],
   "source": [
    "# !pip install mysql-connector-python\n",
    "import mysql.connector\n",
    "con = mysql.connector.connect(\n",
    "user = \"ardit700_student\",\n",
    "password = \"ardit700_student\",\n",
    "host = \"108.167.140.122\",\n",
    "database = \"ardit700_pm1database\"\n",
    ")\n",
    "\n",
    "# cursor = con.cursor() \n",
    "# query = cursor.execute(\"SELECT * from Dictionary limit 10 \")\n",
    "# result = cursor.fetchall()\n",
    "\n",
    "# print(result)\n"
   ]
  },
  {
   "cell_type": "code",
   "execution_count": null,
   "metadata": {},
   "outputs": [],
   "source": [
    "cursor = con.cursor()\n",
    "query = cursor.execute(\"SELECT * from Dictionary where Expression = 'inlay' \")\n",
    "result1 = cursor.fetchall()\n",
    "print(result1)\n",
    "\n",
    "cursor = con.cursor()\n",
    "query = cursor.execute(\"SELECT * from Dictionary where Expression = 'line' \")\n",
    "result2 = cursor.fetchall()\n",
    "print(result2)\n",
    "\n",
    "query= (\"SELECT * FROM Dictionary WHERE Expression  LIKE 'r%'\")\n",
    "result3= cursor.fetchall()\n",
    "print(result3)"
   ]
  },
  {
   "cell_type": "code",
   "execution_count": null,
   "metadata": {},
   "outputs": [],
   "source": [
    "for test in result2:\n",
    "    print(test)\n",
    "\n",
    "for test1 in result2:\n",
    "    print(test1[1]) # secpond variable from the data "
   ]
  },
  {
   "cell_type": "code",
   "execution_count": null,
   "metadata": {},
   "outputs": [],
   "source": [
    "word = input(\"Enter a word: \")\n",
    "\n",
    "# import mysql.connector\n",
    "# con = mysql.connector.connect(\n",
    "# user = \"ardit700_student\",\n",
    "# password = \"ardit700_student\",\n",
    "# host = \"108.167.140.122\",\n",
    "# database = \"ardit700_pm1database\"\n",
    "# )\n",
    "# cursor = con.cursor()\n",
    "query = cursor.execute(\"SELECT * from Dictionary where Expression = '%s' \" %word)\n",
    "result3= cursor.fetchall()\n",
    "\n",
    "if result3:\n",
    "    for test in result3:\n",
    "        print (test) \n",
    "else:\n",
    "            print(\"No Word!\")"
   ]
  },
  {
   "cell_type": "markdown",
   "metadata": {},
   "source": [
    "# OS Module"
   ]
  },
  {
   "cell_type": "code",
   "execution_count": null,
   "metadata": {
    "scrolled": true
   },
   "outputs": [],
   "source": [
    "import os"
   ]
  },
  {
   "cell_type": "code",
   "execution_count": null,
   "metadata": {
    "scrolled": true
   },
   "outputs": [],
   "source": [
    "print(dir(os))"
   ]
  },
  {
   "cell_type": "code",
   "execution_count": null,
   "metadata": {},
   "outputs": [],
   "source": [
    "print(os.stat('Mani Forecast Analysis Insurance NMA.xlsx').st_size)\n",
    "# to know the size of the file "
   ]
  },
  {
   "cell_type": "code",
   "execution_count": null,
   "metadata": {},
   "outputs": [],
   "source": [
    "# to know when the file was last edited\n",
    "from datetime import datetime\n",
    "mod_time =os.stat('vegetables1.txt').st_mtime\n",
    "print(datetime.fromtimestamp(mod_time))"
   ]
  },
  {
   "cell_type": "markdown",
   "metadata": {},
   "source": [
    "# OPEN CV"
   ]
  },
  {
   "cell_type": "code",
   "execution_count": null,
   "metadata": {},
   "outputs": [],
   "source": [
    "!pip install opencv-python"
   ]
  },
  {
   "cell_type": "code",
   "execution_count": null,
   "metadata": {},
   "outputs": [],
   "source": [
    "import cv2"
   ]
  },
  {
   "cell_type": "raw",
   "metadata": {},
   "source": [
    "im_g = cv2.imread(\"datascienceworkflow1.png\",0)  # 0= if we want to read image in grey scale\n",
    "#1 when we want to read image in BGR scale :blue green red\n",
    "im_g"
   ]
  },
  {
   "cell_type": "code",
   "execution_count": null,
   "metadata": {},
   "outputs": [],
   "source": [
    "im_g = cv2.imread(\"datascienceworkflow1.png\",0)\n",
    "im_g"
   ]
  },
  {
   "cell_type": "code",
   "execution_count": null,
   "metadata": {},
   "outputs": [],
   "source": [
    "im_g[0:2]  # first 2 rows"
   ]
  },
  {
   "cell_type": "code",
   "execution_count": null,
   "metadata": {},
   "outputs": [],
   "source": [
    "im_g[0:5,4:8]  # 0 to 5 row and 5 to 8 column "
   ]
  },
  {
   "cell_type": "code",
   "execution_count": null,
   "metadata": {},
   "outputs": [],
   "source": [
    "im_g.shape"
   ]
  },
  {
   "cell_type": "code",
   "execution_count": null,
   "metadata": {},
   "outputs": [],
   "source": [
    "for i in im_g:\n",
    "    print(i)"
   ]
  },
  {
   "cell_type": "code",
   "execution_count": null,
   "metadata": {},
   "outputs": [],
   "source": [
    "for i in im_g.flat:\n",
    "    print(i)   # indexing values one by one "
   ]
  },
  {
   "cell_type": "code",
   "execution_count": null,
   "metadata": {},
   "outputs": [],
   "source": [
    "# COncatenating 2 arrays:\n",
    "a= np.array([[2,2],\n",
    "           [3,3],\n",
    "           [4,5]])"
   ]
  },
  {
   "cell_type": "code",
   "execution_count": null,
   "metadata": {},
   "outputs": [],
   "source": [
    "a"
   ]
  },
  {
   "cell_type": "code",
   "execution_count": null,
   "metadata": {},
   "outputs": [],
   "source": [
    "b= ([[45,56],\n",
    "    [100,120],\n",
    "    [22,2]])"
   ]
  },
  {
   "cell_type": "code",
   "execution_count": null,
   "metadata": {},
   "outputs": [],
   "source": [
    "b"
   ]
  },
  {
   "cell_type": "markdown",
   "metadata": {},
   "source": [
    "## Concatenation in Numpy"
   ]
  },
  {
   "cell_type": "code",
   "execution_count": null,
   "metadata": {},
   "outputs": [],
   "source": [
    "c= np.hstack((a,b))    #horizontally stack"
   ]
  },
  {
   "cell_type": "code",
   "execution_count": null,
   "metadata": {},
   "outputs": [],
   "source": [
    "c"
   ]
  },
  {
   "cell_type": "code",
   "execution_count": null,
   "metadata": {},
   "outputs": [],
   "source": [
    "print(c)"
   ]
  },
  {
   "cell_type": "code",
   "execution_count": null,
   "metadata": {},
   "outputs": [],
   "source": [
    "d= np.vstack((a,b))    #veritcally stack"
   ]
  },
  {
   "cell_type": "code",
   "execution_count": null,
   "metadata": {},
   "outputs": [],
   "source": [
    "d"
   ]
  },
  {
   "cell_type": "code",
   "execution_count": null,
   "metadata": {},
   "outputs": [],
   "source": [
    "e= np.hsplit(c,2)  # ensure how many column you have basis that numpy will try to split equally\n",
    "# so if we have 10 columns we can have even number of split as each array needs to be equal split"
   ]
  },
  {
   "cell_type": "code",
   "execution_count": null,
   "metadata": {},
   "outputs": [],
   "source": [
    "e"
   ]
  },
  {
   "cell_type": "code",
   "execution_count": null,
   "metadata": {},
   "outputs": [],
   "source": [
    "!pip install folium"
   ]
  },
  {
   "cell_type": "code",
   "execution_count": null,
   "metadata": {},
   "outputs": [],
   "source": [
    "import folium"
   ]
  },
  {
   "cell_type": "code",
   "execution_count": null,
   "metadata": {},
   "outputs": [],
   "source": [
    "dir(folium)"
   ]
  },
  {
   "cell_type": "code",
   "execution_count": null,
   "metadata": {},
   "outputs": [],
   "source": [
    "map = folium.Map(location=[28.626550, 77.092430], zoom_start=24)\n",
    "map.save(\"Map1.html\")\n",
    "map"
   ]
  },
  {
   "cell_type": "markdown",
   "metadata": {},
   "source": [
    "# EDA package "
   ]
  },
  {
   "cell_type": "code",
   "execution_count": null,
   "metadata": {},
   "outputs": [],
   "source": [
    "import sweetviz as sv"
   ]
  },
  {
   "cell_type": "code",
   "execution_count": null,
   "metadata": {},
   "outputs": [],
   "source": [
    "train = pd.read_csv(\"titanic_train.csv\")\n",
    "test = pd.read_csv(\"titanic_test.csv\")"
   ]
  },
  {
   "cell_type": "code",
   "execution_count": null,
   "metadata": {},
   "outputs": [],
   "source": [
    "my_report = sv.compare([train, \"Train\"], [test, \"Test\"], \"Survived\") \n",
    "# define the outcome var"
   ]
  },
  {
   "cell_type": "code",
   "execution_count": null,
   "metadata": {},
   "outputs": [],
   "source": [
    "my_report.show_html(\"Shivi.html\")"
   ]
  },
  {
   "cell_type": "code",
   "execution_count": null,
   "metadata": {},
   "outputs": [],
   "source": [
    "my_report1 = sv.analyze(train, target_feat=\"Survived\", feat_cfg=sv.FeatureConfig(skip=\"PassengerId\"))\n",
    "# the above after analyze are all optional "
   ]
  },
  {
   "cell_type": "code",
   "execution_count": null,
   "metadata": {},
   "outputs": [],
   "source": [
    "my_report1.show_html()"
   ]
  },
  {
   "cell_type": "markdown",
   "metadata": {},
   "source": [
    "# Some Imp Python Q's"
   ]
  },
  {
   "cell_type": "markdown",
   "metadata": {},
   "source": [
    "1. When __performance__ is paramount, you _should avoid using .apply() and .map()_ because those constructs perform Python for-loops over the data stored in a pandas Series or DataFrame. By using __vectorized functions__ instead, you can loop over the data at the same speed as compiled code (C, Fortran, etc.)!    \n",
    "1. NumPy, SciPy and pandas come with a variety of vectorized functions (called Universal Functions or UFuncs in NumPy).    \n",
    "1. Index is an imp method to use as it allows to filter or select data from a series, dataframe etc simialr to like we do in list by just specifying position    \n",
    "1. "
   ]
  }
 ],
 "metadata": {
  "kernelspec": {
   "display_name": "Python 3",
   "language": "python",
   "name": "python3"
  },
  "language_info": {
   "codemirror_mode": {
    "name": "ipython",
    "version": 3
   },
   "file_extension": ".py",
   "mimetype": "text/x-python",
   "name": "python",
   "nbconvert_exporter": "python",
   "pygments_lexer": "ipython3",
   "version": "3.7.3"
  },
  "toc": {
   "base_numbering": 1,
   "nav_menu": {},
   "number_sections": true,
   "sideBar": true,
   "skip_h1_title": false,
   "title_cell": "A Flow To Python Learning",
   "title_sidebar": "Contents",
   "toc_cell": true,
   "toc_position": {
    "height": "calc(100% - 180px)",
    "left": "10px",
    "top": "150px",
    "width": "275.188px"
   },
   "toc_section_display": true,
   "toc_window_display": true
  },
  "widgets": {
   "application/vnd.jupyter.widget-state+json": {
    "state": {},
    "version_major": 2,
    "version_minor": 0
   }
  }
 },
 "nbformat": 4,
 "nbformat_minor": 2
}
